{
  "cells": [
    {
      "cell_type": "code",
      "execution_count": null,
      "id": "90bb6a44",
      "metadata": {
        "id": "90bb6a44"
      },
      "outputs": [],
      "source": [
        "import numpy as np # linear algebra\n",
        "import pandas as pd # data processing, CSV file I/O (e.g. pd.read_csv)\n",
        "import matplotlib.pyplot as plt # for data visualization purposes\n",
        "import seaborn as sns # for statistical data visualization\n",
        "%matplotlib inline\n"
      ]
    },
    {
      "cell_type": "code",
      "execution_count": null,
      "id": "df229275",
      "metadata": {
        "id": "df229275"
      },
      "outputs": [],
      "source": [
        "df=pd.read_csv('adult.csv')"
      ]
    },
    {
      "cell_type": "code",
      "execution_count": null,
      "id": "5ccf9104",
      "metadata": {
        "id": "5ccf9104",
        "outputId": "f6af0f3c-27e5-43f4-f21b-3d699d4bcc79"
      },
      "outputs": [
        {
          "data": {
            "text/plain": [
              "(48842, 15)"
            ]
          },
          "execution_count": 3,
          "metadata": {},
          "output_type": "execute_result"
        }
      ],
      "source": [
        "df.shape"
      ]
    },
    {
      "cell_type": "code",
      "execution_count": null,
      "id": "6fb1428e",
      "metadata": {
        "id": "6fb1428e",
        "outputId": "ad56ea89-213c-41c4-e8a6-993bf3d95de5"
      },
      "outputs": [
        {
          "data": {
            "text/html": [
              "<div>\n",
              "<style scoped>\n",
              "    .dataframe tbody tr th:only-of-type {\n",
              "        vertical-align: middle;\n",
              "    }\n",
              "\n",
              "    .dataframe tbody tr th {\n",
              "        vertical-align: top;\n",
              "    }\n",
              "\n",
              "    .dataframe thead th {\n",
              "        text-align: right;\n",
              "    }\n",
              "</style>\n",
              "<table border=\"1\" class=\"dataframe\">\n",
              "  <thead>\n",
              "    <tr style=\"text-align: right;\">\n",
              "      <th></th>\n",
              "      <th>age</th>\n",
              "      <th>workclass</th>\n",
              "      <th>fnlwgt</th>\n",
              "      <th>education</th>\n",
              "      <th>educational-num</th>\n",
              "      <th>marital-status</th>\n",
              "      <th>occupation</th>\n",
              "      <th>relationship</th>\n",
              "      <th>race</th>\n",
              "      <th>gender</th>\n",
              "      <th>capital-gain</th>\n",
              "      <th>capital-loss</th>\n",
              "      <th>hours-per-week</th>\n",
              "      <th>native-country</th>\n",
              "      <th>income</th>\n",
              "    </tr>\n",
              "  </thead>\n",
              "  <tbody>\n",
              "    <tr>\n",
              "      <th>0</th>\n",
              "      <td>25</td>\n",
              "      <td>Private</td>\n",
              "      <td>226802</td>\n",
              "      <td>11th</td>\n",
              "      <td>7</td>\n",
              "      <td>Never-married</td>\n",
              "      <td>Machine-op-inspct</td>\n",
              "      <td>Own-child</td>\n",
              "      <td>Black</td>\n",
              "      <td>Male</td>\n",
              "      <td>0</td>\n",
              "      <td>0</td>\n",
              "      <td>40</td>\n",
              "      <td>United-States</td>\n",
              "      <td>&lt;=50K</td>\n",
              "    </tr>\n",
              "    <tr>\n",
              "      <th>1</th>\n",
              "      <td>38</td>\n",
              "      <td>Private</td>\n",
              "      <td>89814</td>\n",
              "      <td>HS-grad</td>\n",
              "      <td>9</td>\n",
              "      <td>Married-civ-spouse</td>\n",
              "      <td>Farming-fishing</td>\n",
              "      <td>Husband</td>\n",
              "      <td>White</td>\n",
              "      <td>Male</td>\n",
              "      <td>0</td>\n",
              "      <td>0</td>\n",
              "      <td>50</td>\n",
              "      <td>United-States</td>\n",
              "      <td>&lt;=50K</td>\n",
              "    </tr>\n",
              "    <tr>\n",
              "      <th>2</th>\n",
              "      <td>28</td>\n",
              "      <td>Local-gov</td>\n",
              "      <td>336951</td>\n",
              "      <td>Assoc-acdm</td>\n",
              "      <td>12</td>\n",
              "      <td>Married-civ-spouse</td>\n",
              "      <td>Protective-serv</td>\n",
              "      <td>Husband</td>\n",
              "      <td>White</td>\n",
              "      <td>Male</td>\n",
              "      <td>0</td>\n",
              "      <td>0</td>\n",
              "      <td>40</td>\n",
              "      <td>United-States</td>\n",
              "      <td>&gt;50K</td>\n",
              "    </tr>\n",
              "    <tr>\n",
              "      <th>3</th>\n",
              "      <td>44</td>\n",
              "      <td>Private</td>\n",
              "      <td>160323</td>\n",
              "      <td>Some-college</td>\n",
              "      <td>10</td>\n",
              "      <td>Married-civ-spouse</td>\n",
              "      <td>Machine-op-inspct</td>\n",
              "      <td>Husband</td>\n",
              "      <td>Black</td>\n",
              "      <td>Male</td>\n",
              "      <td>7688</td>\n",
              "      <td>0</td>\n",
              "      <td>40</td>\n",
              "      <td>United-States</td>\n",
              "      <td>&gt;50K</td>\n",
              "    </tr>\n",
              "    <tr>\n",
              "      <th>4</th>\n",
              "      <td>18</td>\n",
              "      <td>?</td>\n",
              "      <td>103497</td>\n",
              "      <td>Some-college</td>\n",
              "      <td>10</td>\n",
              "      <td>Never-married</td>\n",
              "      <td>?</td>\n",
              "      <td>Own-child</td>\n",
              "      <td>White</td>\n",
              "      <td>Female</td>\n",
              "      <td>0</td>\n",
              "      <td>0</td>\n",
              "      <td>30</td>\n",
              "      <td>United-States</td>\n",
              "      <td>&lt;=50K</td>\n",
              "    </tr>\n",
              "  </tbody>\n",
              "</table>\n",
              "</div>"
            ],
            "text/plain": [
              "   age  workclass  fnlwgt     education  educational-num      marital-status  \\\n",
              "0   25    Private  226802          11th                7       Never-married   \n",
              "1   38    Private   89814       HS-grad                9  Married-civ-spouse   \n",
              "2   28  Local-gov  336951    Assoc-acdm               12  Married-civ-spouse   \n",
              "3   44    Private  160323  Some-college               10  Married-civ-spouse   \n",
              "4   18          ?  103497  Some-college               10       Never-married   \n",
              "\n",
              "          occupation relationship   race  gender  capital-gain  capital-loss  \\\n",
              "0  Machine-op-inspct    Own-child  Black    Male             0             0   \n",
              "1    Farming-fishing      Husband  White    Male             0             0   \n",
              "2    Protective-serv      Husband  White    Male             0             0   \n",
              "3  Machine-op-inspct      Husband  Black    Male          7688             0   \n",
              "4                  ?    Own-child  White  Female             0             0   \n",
              "\n",
              "   hours-per-week native-country income  \n",
              "0              40  United-States  <=50K  \n",
              "1              50  United-States  <=50K  \n",
              "2              40  United-States   >50K  \n",
              "3              40  United-States   >50K  \n",
              "4              30  United-States  <=50K  "
            ]
          },
          "execution_count": 4,
          "metadata": {},
          "output_type": "execute_result"
        }
      ],
      "source": [
        "df.head()"
      ]
    },
    {
      "cell_type": "code",
      "execution_count": null,
      "id": "52c4760b",
      "metadata": {
        "id": "52c4760b",
        "outputId": "97f20382-fbb7-4cb9-f832-8817567b74c6"
      },
      "outputs": [
        {
          "data": {
            "text/plain": [
              "Index(['age', 'workclass', 'fnlwgt', 'education', 'education_num',\n",
              "       'marital_status', 'occupation', 'relationship', 'race', 'sex',\n",
              "       'capital_gain', 'capital_loss', 'hours_per_week', 'native_country',\n",
              "       'income'],\n",
              "      dtype='object')"
            ]
          },
          "execution_count": 5,
          "metadata": {},
          "output_type": "execute_result"
        }
      ],
      "source": [
        "col_names = ['age', 'workclass', 'fnlwgt', 'education', 'education_num', 'marital_status', 'occupation', 'relationship',\n",
        "             'race', 'sex', 'capital_gain', 'capital_loss', 'hours_per_week', 'native_country', 'income']\n",
        "\n",
        "df.columns = col_names\n",
        "\n",
        "df.columns"
      ]
    },
    {
      "cell_type": "code",
      "execution_count": null,
      "id": "5d5763e5",
      "metadata": {
        "id": "5d5763e5",
        "outputId": "9a80e3a9-54a2-48b3-96e5-86c016cd893c"
      },
      "outputs": [
        {
          "data": {
            "text/html": [
              "<div>\n",
              "<style scoped>\n",
              "    .dataframe tbody tr th:only-of-type {\n",
              "        vertical-align: middle;\n",
              "    }\n",
              "\n",
              "    .dataframe tbody tr th {\n",
              "        vertical-align: top;\n",
              "    }\n",
              "\n",
              "    .dataframe thead th {\n",
              "        text-align: right;\n",
              "    }\n",
              "</style>\n",
              "<table border=\"1\" class=\"dataframe\">\n",
              "  <thead>\n",
              "    <tr style=\"text-align: right;\">\n",
              "      <th></th>\n",
              "      <th>age</th>\n",
              "      <th>workclass</th>\n",
              "      <th>fnlwgt</th>\n",
              "      <th>education</th>\n",
              "      <th>education_num</th>\n",
              "      <th>marital_status</th>\n",
              "      <th>occupation</th>\n",
              "      <th>relationship</th>\n",
              "      <th>race</th>\n",
              "      <th>sex</th>\n",
              "      <th>capital_gain</th>\n",
              "      <th>capital_loss</th>\n",
              "      <th>hours_per_week</th>\n",
              "      <th>native_country</th>\n",
              "      <th>income</th>\n",
              "    </tr>\n",
              "  </thead>\n",
              "  <tbody>\n",
              "    <tr>\n",
              "      <th>0</th>\n",
              "      <td>25</td>\n",
              "      <td>Private</td>\n",
              "      <td>226802</td>\n",
              "      <td>11th</td>\n",
              "      <td>7</td>\n",
              "      <td>Never-married</td>\n",
              "      <td>Machine-op-inspct</td>\n",
              "      <td>Own-child</td>\n",
              "      <td>Black</td>\n",
              "      <td>Male</td>\n",
              "      <td>0</td>\n",
              "      <td>0</td>\n",
              "      <td>40</td>\n",
              "      <td>United-States</td>\n",
              "      <td>&lt;=50K</td>\n",
              "    </tr>\n",
              "    <tr>\n",
              "      <th>1</th>\n",
              "      <td>38</td>\n",
              "      <td>Private</td>\n",
              "      <td>89814</td>\n",
              "      <td>HS-grad</td>\n",
              "      <td>9</td>\n",
              "      <td>Married-civ-spouse</td>\n",
              "      <td>Farming-fishing</td>\n",
              "      <td>Husband</td>\n",
              "      <td>White</td>\n",
              "      <td>Male</td>\n",
              "      <td>0</td>\n",
              "      <td>0</td>\n",
              "      <td>50</td>\n",
              "      <td>United-States</td>\n",
              "      <td>&lt;=50K</td>\n",
              "    </tr>\n",
              "    <tr>\n",
              "      <th>2</th>\n",
              "      <td>28</td>\n",
              "      <td>Local-gov</td>\n",
              "      <td>336951</td>\n",
              "      <td>Assoc-acdm</td>\n",
              "      <td>12</td>\n",
              "      <td>Married-civ-spouse</td>\n",
              "      <td>Protective-serv</td>\n",
              "      <td>Husband</td>\n",
              "      <td>White</td>\n",
              "      <td>Male</td>\n",
              "      <td>0</td>\n",
              "      <td>0</td>\n",
              "      <td>40</td>\n",
              "      <td>United-States</td>\n",
              "      <td>&gt;50K</td>\n",
              "    </tr>\n",
              "    <tr>\n",
              "      <th>3</th>\n",
              "      <td>44</td>\n",
              "      <td>Private</td>\n",
              "      <td>160323</td>\n",
              "      <td>Some-college</td>\n",
              "      <td>10</td>\n",
              "      <td>Married-civ-spouse</td>\n",
              "      <td>Machine-op-inspct</td>\n",
              "      <td>Husband</td>\n",
              "      <td>Black</td>\n",
              "      <td>Male</td>\n",
              "      <td>7688</td>\n",
              "      <td>0</td>\n",
              "      <td>40</td>\n",
              "      <td>United-States</td>\n",
              "      <td>&gt;50K</td>\n",
              "    </tr>\n",
              "    <tr>\n",
              "      <th>4</th>\n",
              "      <td>18</td>\n",
              "      <td>?</td>\n",
              "      <td>103497</td>\n",
              "      <td>Some-college</td>\n",
              "      <td>10</td>\n",
              "      <td>Never-married</td>\n",
              "      <td>?</td>\n",
              "      <td>Own-child</td>\n",
              "      <td>White</td>\n",
              "      <td>Female</td>\n",
              "      <td>0</td>\n",
              "      <td>0</td>\n",
              "      <td>30</td>\n",
              "      <td>United-States</td>\n",
              "      <td>&lt;=50K</td>\n",
              "    </tr>\n",
              "  </tbody>\n",
              "</table>\n",
              "</div>"
            ],
            "text/plain": [
              "   age  workclass  fnlwgt     education  education_num      marital_status  \\\n",
              "0   25    Private  226802          11th              7       Never-married   \n",
              "1   38    Private   89814       HS-grad              9  Married-civ-spouse   \n",
              "2   28  Local-gov  336951    Assoc-acdm             12  Married-civ-spouse   \n",
              "3   44    Private  160323  Some-college             10  Married-civ-spouse   \n",
              "4   18          ?  103497  Some-college             10       Never-married   \n",
              "\n",
              "          occupation relationship   race     sex  capital_gain  capital_loss  \\\n",
              "0  Machine-op-inspct    Own-child  Black    Male             0             0   \n",
              "1    Farming-fishing      Husband  White    Male             0             0   \n",
              "2    Protective-serv      Husband  White    Male             0             0   \n",
              "3  Machine-op-inspct      Husband  Black    Male          7688             0   \n",
              "4                  ?    Own-child  White  Female             0             0   \n",
              "\n",
              "   hours_per_week native_country income  \n",
              "0              40  United-States  <=50K  \n",
              "1              50  United-States  <=50K  \n",
              "2              40  United-States   >50K  \n",
              "3              40  United-States   >50K  \n",
              "4              30  United-States  <=50K  "
            ]
          },
          "execution_count": 6,
          "metadata": {},
          "output_type": "execute_result"
        }
      ],
      "source": [
        "df.head()"
      ]
    },
    {
      "cell_type": "code",
      "execution_count": null,
      "id": "5f9df455",
      "metadata": {
        "id": "5f9df455",
        "outputId": "74da12c0-ac16-461f-e87a-6582508482b8"
      },
      "outputs": [
        {
          "name": "stdout",
          "output_type": "stream",
          "text": [
            "<class 'pandas.core.frame.DataFrame'>\n",
            "RangeIndex: 48842 entries, 0 to 48841\n",
            "Data columns (total 15 columns):\n",
            " #   Column          Non-Null Count  Dtype \n",
            "---  ------          --------------  ----- \n",
            " 0   age             48842 non-null  int64 \n",
            " 1   workclass       48842 non-null  object\n",
            " 2   fnlwgt          48842 non-null  int64 \n",
            " 3   education       48842 non-null  object\n",
            " 4   education_num   48842 non-null  int64 \n",
            " 5   marital_status  48842 non-null  object\n",
            " 6   occupation      48842 non-null  object\n",
            " 7   relationship    48842 non-null  object\n",
            " 8   race            48842 non-null  object\n",
            " 9   sex             48842 non-null  object\n",
            " 10  capital_gain    48842 non-null  int64 \n",
            " 11  capital_loss    48842 non-null  int64 \n",
            " 12  hours_per_week  48842 non-null  int64 \n",
            " 13  native_country  48842 non-null  object\n",
            " 14  income          48842 non-null  object\n",
            "dtypes: int64(6), object(9)\n",
            "memory usage: 5.6+ MB\n"
          ]
        }
      ],
      "source": [
        "df.info()"
      ]
    },
    {
      "cell_type": "code",
      "execution_count": null,
      "id": "692a13d8",
      "metadata": {
        "id": "692a13d8",
        "outputId": "e0e856e2-5380-4499-d953-1729859557f3"
      },
      "outputs": [
        {
          "name": "stdout",
          "output_type": "stream",
          "text": [
            "There are 9 categorical variables\n",
            "\n",
            "The categorical variables are :\n",
            "\n",
            " ['workclass', 'education', 'marital_status', 'occupation', 'relationship', 'race', 'sex', 'native_country', 'income']\n"
          ]
        }
      ],
      "source": [
        "# find categorical variables\n",
        "\n",
        "categorical = [var for var in df.columns if df[var].dtype=='O']\n",
        "\n",
        "print('There are {} categorical variables\\n'.format(len(categorical)))\n",
        "\n",
        "print('The categorical variables are :\\n\\n', categorical)"
      ]
    },
    {
      "cell_type": "code",
      "execution_count": null,
      "id": "18e3c817",
      "metadata": {
        "id": "18e3c817",
        "outputId": "ba61a1fb-448a-4f7a-c977-3140f8f60a08"
      },
      "outputs": [
        {
          "data": {
            "text/html": [
              "<div>\n",
              "<style scoped>\n",
              "    .dataframe tbody tr th:only-of-type {\n",
              "        vertical-align: middle;\n",
              "    }\n",
              "\n",
              "    .dataframe tbody tr th {\n",
              "        vertical-align: top;\n",
              "    }\n",
              "\n",
              "    .dataframe thead th {\n",
              "        text-align: right;\n",
              "    }\n",
              "</style>\n",
              "<table border=\"1\" class=\"dataframe\">\n",
              "  <thead>\n",
              "    <tr style=\"text-align: right;\">\n",
              "      <th></th>\n",
              "      <th>workclass</th>\n",
              "      <th>education</th>\n",
              "      <th>marital_status</th>\n",
              "      <th>occupation</th>\n",
              "      <th>relationship</th>\n",
              "      <th>race</th>\n",
              "      <th>sex</th>\n",
              "      <th>native_country</th>\n",
              "      <th>income</th>\n",
              "    </tr>\n",
              "  </thead>\n",
              "  <tbody>\n",
              "    <tr>\n",
              "      <th>0</th>\n",
              "      <td>Private</td>\n",
              "      <td>11th</td>\n",
              "      <td>Never-married</td>\n",
              "      <td>Machine-op-inspct</td>\n",
              "      <td>Own-child</td>\n",
              "      <td>Black</td>\n",
              "      <td>Male</td>\n",
              "      <td>United-States</td>\n",
              "      <td>&lt;=50K</td>\n",
              "    </tr>\n",
              "    <tr>\n",
              "      <th>1</th>\n",
              "      <td>Private</td>\n",
              "      <td>HS-grad</td>\n",
              "      <td>Married-civ-spouse</td>\n",
              "      <td>Farming-fishing</td>\n",
              "      <td>Husband</td>\n",
              "      <td>White</td>\n",
              "      <td>Male</td>\n",
              "      <td>United-States</td>\n",
              "      <td>&lt;=50K</td>\n",
              "    </tr>\n",
              "    <tr>\n",
              "      <th>2</th>\n",
              "      <td>Local-gov</td>\n",
              "      <td>Assoc-acdm</td>\n",
              "      <td>Married-civ-spouse</td>\n",
              "      <td>Protective-serv</td>\n",
              "      <td>Husband</td>\n",
              "      <td>White</td>\n",
              "      <td>Male</td>\n",
              "      <td>United-States</td>\n",
              "      <td>&gt;50K</td>\n",
              "    </tr>\n",
              "    <tr>\n",
              "      <th>3</th>\n",
              "      <td>Private</td>\n",
              "      <td>Some-college</td>\n",
              "      <td>Married-civ-spouse</td>\n",
              "      <td>Machine-op-inspct</td>\n",
              "      <td>Husband</td>\n",
              "      <td>Black</td>\n",
              "      <td>Male</td>\n",
              "      <td>United-States</td>\n",
              "      <td>&gt;50K</td>\n",
              "    </tr>\n",
              "    <tr>\n",
              "      <th>4</th>\n",
              "      <td>?</td>\n",
              "      <td>Some-college</td>\n",
              "      <td>Never-married</td>\n",
              "      <td>?</td>\n",
              "      <td>Own-child</td>\n",
              "      <td>White</td>\n",
              "      <td>Female</td>\n",
              "      <td>United-States</td>\n",
              "      <td>&lt;=50K</td>\n",
              "    </tr>\n",
              "  </tbody>\n",
              "</table>\n",
              "</div>"
            ],
            "text/plain": [
              "   workclass     education      marital_status         occupation  \\\n",
              "0    Private          11th       Never-married  Machine-op-inspct   \n",
              "1    Private       HS-grad  Married-civ-spouse    Farming-fishing   \n",
              "2  Local-gov    Assoc-acdm  Married-civ-spouse    Protective-serv   \n",
              "3    Private  Some-college  Married-civ-spouse  Machine-op-inspct   \n",
              "4          ?  Some-college       Never-married                  ?   \n",
              "\n",
              "  relationship   race     sex native_country income  \n",
              "0    Own-child  Black    Male  United-States  <=50K  \n",
              "1      Husband  White    Male  United-States  <=50K  \n",
              "2      Husband  White    Male  United-States   >50K  \n",
              "3      Husband  Black    Male  United-States   >50K  \n",
              "4    Own-child  White  Female  United-States  <=50K  "
            ]
          },
          "execution_count": 9,
          "metadata": {},
          "output_type": "execute_result"
        }
      ],
      "source": [
        "\n",
        "df[categorical].head()"
      ]
    },
    {
      "cell_type": "code",
      "execution_count": null,
      "id": "cfebc009",
      "metadata": {
        "id": "cfebc009",
        "outputId": "3297db75-d082-4117-d0ec-d20e66acc400"
      },
      "outputs": [
        {
          "name": "stdout",
          "output_type": "stream",
          "text": [
            "Private             33906\n",
            "Self-emp-not-inc     3862\n",
            "Local-gov            3136\n",
            "?                    2799\n",
            "State-gov            1981\n",
            "Self-emp-inc         1695\n",
            "Federal-gov          1432\n",
            "Without-pay            21\n",
            "Never-worked           10\n",
            "Name: workclass, dtype: int64\n",
            "HS-grad         15784\n",
            "Some-college    10878\n",
            "Bachelors        8025\n",
            "Masters          2657\n",
            "Assoc-voc        2061\n",
            "11th             1812\n",
            "Assoc-acdm       1601\n",
            "10th             1389\n",
            "7th-8th           955\n",
            "Prof-school       834\n",
            "9th               756\n",
            "12th              657\n",
            "Doctorate         594\n",
            "5th-6th           509\n",
            "1st-4th           247\n",
            "Preschool          83\n",
            "Name: education, dtype: int64\n",
            "Married-civ-spouse       22379\n",
            "Never-married            16117\n",
            "Divorced                  6633\n",
            "Separated                 1530\n",
            "Widowed                   1518\n",
            "Married-spouse-absent      628\n",
            "Married-AF-spouse           37\n",
            "Name: marital_status, dtype: int64\n",
            "Prof-specialty       6172\n",
            "Craft-repair         6112\n",
            "Exec-managerial      6086\n",
            "Adm-clerical         5611\n",
            "Sales                5504\n",
            "Other-service        4923\n",
            "Machine-op-inspct    3022\n",
            "?                    2809\n",
            "Transport-moving     2355\n",
            "Handlers-cleaners    2072\n",
            "Farming-fishing      1490\n",
            "Tech-support         1446\n",
            "Protective-serv       983\n",
            "Priv-house-serv       242\n",
            "Armed-Forces           15\n",
            "Name: occupation, dtype: int64\n",
            "Husband           19716\n",
            "Not-in-family     12583\n",
            "Own-child          7581\n",
            "Unmarried          5125\n",
            "Wife               2331\n",
            "Other-relative     1506\n",
            "Name: relationship, dtype: int64\n",
            "White                 41762\n",
            "Black                  4685\n",
            "Asian-Pac-Islander     1519\n",
            "Amer-Indian-Eskimo      470\n",
            "Other                   406\n",
            "Name: race, dtype: int64\n",
            "Male      32650\n",
            "Female    16192\n",
            "Name: sex, dtype: int64\n",
            "United-States                 43832\n",
            "Mexico                          951\n",
            "?                               857\n",
            "Philippines                     295\n",
            "Germany                         206\n",
            "Puerto-Rico                     184\n",
            "Canada                          182\n",
            "El-Salvador                     155\n",
            "India                           151\n",
            "Cuba                            138\n",
            "England                         127\n",
            "China                           122\n",
            "South                           115\n",
            "Jamaica                         106\n",
            "Italy                           105\n",
            "Dominican-Republic              103\n",
            "Japan                            92\n",
            "Guatemala                        88\n",
            "Poland                           87\n",
            "Vietnam                          86\n",
            "Columbia                         85\n",
            "Haiti                            75\n",
            "Portugal                         67\n",
            "Taiwan                           65\n",
            "Iran                             59\n",
            "Greece                           49\n",
            "Nicaragua                        49\n",
            "Peru                             46\n",
            "Ecuador                          45\n",
            "France                           38\n",
            "Ireland                          37\n",
            "Hong                             30\n",
            "Thailand                         30\n",
            "Cambodia                         28\n",
            "Trinadad&Tobago                  27\n",
            "Laos                             23\n",
            "Yugoslavia                       23\n",
            "Outlying-US(Guam-USVI-etc)       23\n",
            "Scotland                         21\n",
            "Honduras                         20\n",
            "Hungary                          19\n",
            "Holand-Netherlands                1\n",
            "Name: native_country, dtype: int64\n",
            "<=50K    37155\n",
            ">50K     11687\n",
            "Name: income, dtype: int64\n"
          ]
        }
      ],
      "source": [
        "# view frequency counts of values in categorical variables\n",
        "\n",
        "for var in categorical: \n",
        "    \n",
        "    print(df[var].value_counts())"
      ]
    },
    {
      "cell_type": "code",
      "execution_count": null,
      "id": "4298f348",
      "metadata": {
        "id": "4298f348",
        "outputId": "8f530474-be8a-4977-eb3b-fa536a9943db"
      },
      "outputs": [
        {
          "name": "stdout",
          "output_type": "stream",
          "text": [
            "Private             0.694198\n",
            "Self-emp-not-inc    0.079071\n",
            "Local-gov           0.064207\n",
            "?                   0.057307\n",
            "State-gov           0.040559\n",
            "Self-emp-inc        0.034704\n",
            "Federal-gov         0.029319\n",
            "Without-pay         0.000430\n",
            "Never-worked        0.000205\n",
            "Name: workclass, dtype: float64\n",
            "HS-grad         0.323164\n",
            "Some-college    0.222718\n",
            "Bachelors       0.164305\n",
            "Masters         0.054400\n",
            "Assoc-voc       0.042197\n",
            "11th            0.037099\n",
            "Assoc-acdm      0.032779\n",
            "10th            0.028439\n",
            "7th-8th         0.019553\n",
            "Prof-school     0.017075\n",
            "9th             0.015478\n",
            "12th            0.013452\n",
            "Doctorate       0.012162\n",
            "5th-6th         0.010421\n",
            "1st-4th         0.005057\n",
            "Preschool       0.001699\n",
            "Name: education, dtype: float64\n",
            "Married-civ-spouse       0.458192\n",
            "Never-married            0.329982\n",
            "Divorced                 0.135805\n",
            "Separated                0.031325\n",
            "Widowed                  0.031080\n",
            "Married-spouse-absent    0.012858\n",
            "Married-AF-spouse        0.000758\n",
            "Name: marital_status, dtype: float64\n",
            "Prof-specialty       0.126367\n",
            "Craft-repair         0.125138\n",
            "Exec-managerial      0.124606\n",
            "Adm-clerical         0.114881\n",
            "Sales                0.112690\n",
            "Other-service        0.100794\n",
            "Machine-op-inspct    0.061873\n",
            "?                    0.057512\n",
            "Transport-moving     0.048217\n",
            "Handlers-cleaners    0.042423\n",
            "Farming-fishing      0.030507\n",
            "Tech-support         0.029606\n",
            "Protective-serv      0.020126\n",
            "Priv-house-serv      0.004955\n",
            "Armed-Forces         0.000307\n",
            "Name: occupation, dtype: float64\n",
            "Husband           0.403669\n",
            "Not-in-family     0.257627\n",
            "Own-child         0.155215\n",
            "Unmarried         0.104930\n",
            "Wife              0.047725\n",
            "Other-relative    0.030834\n",
            "Name: relationship, dtype: float64\n",
            "White                 0.855043\n",
            "Black                 0.095922\n",
            "Asian-Pac-Islander    0.031100\n",
            "Amer-Indian-Eskimo    0.009623\n",
            "Other                 0.008313\n",
            "Name: race, dtype: float64\n",
            "Male      0.668482\n",
            "Female    0.331518\n",
            "Name: sex, dtype: float64\n",
            "United-States                 0.897424\n",
            "Mexico                        0.019471\n",
            "?                             0.017546\n",
            "Philippines                   0.006040\n",
            "Germany                       0.004218\n",
            "Puerto-Rico                   0.003767\n",
            "Canada                        0.003726\n",
            "El-Salvador                   0.003173\n",
            "India                         0.003092\n",
            "Cuba                          0.002825\n",
            "England                       0.002600\n",
            "China                         0.002498\n",
            "South                         0.002355\n",
            "Jamaica                       0.002170\n",
            "Italy                         0.002150\n",
            "Dominican-Republic            0.002109\n",
            "Japan                         0.001884\n",
            "Guatemala                     0.001802\n",
            "Poland                        0.001781\n",
            "Vietnam                       0.001761\n",
            "Columbia                      0.001740\n",
            "Haiti                         0.001536\n",
            "Portugal                      0.001372\n",
            "Taiwan                        0.001331\n",
            "Iran                          0.001208\n",
            "Greece                        0.001003\n",
            "Nicaragua                     0.001003\n",
            "Peru                          0.000942\n",
            "Ecuador                       0.000921\n",
            "France                        0.000778\n",
            "Ireland                       0.000758\n",
            "Hong                          0.000614\n",
            "Thailand                      0.000614\n",
            "Cambodia                      0.000573\n",
            "Trinadad&Tobago               0.000553\n",
            "Laos                          0.000471\n",
            "Yugoslavia                    0.000471\n",
            "Outlying-US(Guam-USVI-etc)    0.000471\n",
            "Scotland                      0.000430\n",
            "Honduras                      0.000409\n",
            "Hungary                       0.000389\n",
            "Holand-Netherlands            0.000020\n",
            "Name: native_country, dtype: float64\n",
            "<=50K    0.760718\n",
            ">50K     0.239282\n",
            "Name: income, dtype: float64\n"
          ]
        },
        {
          "name": "stderr",
          "output_type": "stream",
          "text": [
            "/var/folders/pk/39g3jn2x3bg7bs14xygdbsb00000gn/T/ipykernel_1003/1569377904.py:5: DeprecationWarning: `np.float` is a deprecated alias for the builtin `float`. To silence this warning, use `float` by itself. Doing this will not modify any behavior and is safe. If you specifically wanted the numpy scalar type, use `np.float64` here.\n",
            "Deprecated in NumPy 1.20; for more details and guidance: https://numpy.org/devdocs/release/1.20.0-notes.html#deprecations\n",
            "  print(df[var].value_counts()/np.float(len(df)))\n",
            "/var/folders/pk/39g3jn2x3bg7bs14xygdbsb00000gn/T/ipykernel_1003/1569377904.py:5: DeprecationWarning: `np.float` is a deprecated alias for the builtin `float`. To silence this warning, use `float` by itself. Doing this will not modify any behavior and is safe. If you specifically wanted the numpy scalar type, use `np.float64` here.\n",
            "Deprecated in NumPy 1.20; for more details and guidance: https://numpy.org/devdocs/release/1.20.0-notes.html#deprecations\n",
            "  print(df[var].value_counts()/np.float(len(df)))\n",
            "/var/folders/pk/39g3jn2x3bg7bs14xygdbsb00000gn/T/ipykernel_1003/1569377904.py:5: DeprecationWarning: `np.float` is a deprecated alias for the builtin `float`. To silence this warning, use `float` by itself. Doing this will not modify any behavior and is safe. If you specifically wanted the numpy scalar type, use `np.float64` here.\n",
            "Deprecated in NumPy 1.20; for more details and guidance: https://numpy.org/devdocs/release/1.20.0-notes.html#deprecations\n",
            "  print(df[var].value_counts()/np.float(len(df)))\n",
            "/var/folders/pk/39g3jn2x3bg7bs14xygdbsb00000gn/T/ipykernel_1003/1569377904.py:5: DeprecationWarning: `np.float` is a deprecated alias for the builtin `float`. To silence this warning, use `float` by itself. Doing this will not modify any behavior and is safe. If you specifically wanted the numpy scalar type, use `np.float64` here.\n",
            "Deprecated in NumPy 1.20; for more details and guidance: https://numpy.org/devdocs/release/1.20.0-notes.html#deprecations\n",
            "  print(df[var].value_counts()/np.float(len(df)))\n",
            "/var/folders/pk/39g3jn2x3bg7bs14xygdbsb00000gn/T/ipykernel_1003/1569377904.py:5: DeprecationWarning: `np.float` is a deprecated alias for the builtin `float`. To silence this warning, use `float` by itself. Doing this will not modify any behavior and is safe. If you specifically wanted the numpy scalar type, use `np.float64` here.\n",
            "Deprecated in NumPy 1.20; for more details and guidance: https://numpy.org/devdocs/release/1.20.0-notes.html#deprecations\n",
            "  print(df[var].value_counts()/np.float(len(df)))\n",
            "/var/folders/pk/39g3jn2x3bg7bs14xygdbsb00000gn/T/ipykernel_1003/1569377904.py:5: DeprecationWarning: `np.float` is a deprecated alias for the builtin `float`. To silence this warning, use `float` by itself. Doing this will not modify any behavior and is safe. If you specifically wanted the numpy scalar type, use `np.float64` here.\n",
            "Deprecated in NumPy 1.20; for more details and guidance: https://numpy.org/devdocs/release/1.20.0-notes.html#deprecations\n",
            "  print(df[var].value_counts()/np.float(len(df)))\n",
            "/var/folders/pk/39g3jn2x3bg7bs14xygdbsb00000gn/T/ipykernel_1003/1569377904.py:5: DeprecationWarning: `np.float` is a deprecated alias for the builtin `float`. To silence this warning, use `float` by itself. Doing this will not modify any behavior and is safe. If you specifically wanted the numpy scalar type, use `np.float64` here.\n",
            "Deprecated in NumPy 1.20; for more details and guidance: https://numpy.org/devdocs/release/1.20.0-notes.html#deprecations\n",
            "  print(df[var].value_counts()/np.float(len(df)))\n",
            "/var/folders/pk/39g3jn2x3bg7bs14xygdbsb00000gn/T/ipykernel_1003/1569377904.py:5: DeprecationWarning: `np.float` is a deprecated alias for the builtin `float`. To silence this warning, use `float` by itself. Doing this will not modify any behavior and is safe. If you specifically wanted the numpy scalar type, use `np.float64` here.\n",
            "Deprecated in NumPy 1.20; for more details and guidance: https://numpy.org/devdocs/release/1.20.0-notes.html#deprecations\n",
            "  print(df[var].value_counts()/np.float(len(df)))\n",
            "/var/folders/pk/39g3jn2x3bg7bs14xygdbsb00000gn/T/ipykernel_1003/1569377904.py:5: DeprecationWarning: `np.float` is a deprecated alias for the builtin `float`. To silence this warning, use `float` by itself. Doing this will not modify any behavior and is safe. If you specifically wanted the numpy scalar type, use `np.float64` here.\n",
            "Deprecated in NumPy 1.20; for more details and guidance: https://numpy.org/devdocs/release/1.20.0-notes.html#deprecations\n",
            "  print(df[var].value_counts()/np.float(len(df)))\n"
          ]
        }
      ],
      "source": [
        "# view frequency distribution of categorical variables\n",
        "\n",
        "for var in categorical: \n",
        "    \n",
        "    print(df[var].value_counts()/np.float(len(df)))"
      ]
    },
    {
      "cell_type": "code",
      "execution_count": null,
      "id": "36508909",
      "metadata": {
        "id": "36508909",
        "outputId": "8ddc2ea6-5c04-4659-ed4f-d0d8e1fa46f6"
      },
      "outputs": [
        {
          "data": {
            "text/plain": [
              "array(['Private', 'Local-gov', '?', 'Self-emp-not-inc', 'Federal-gov',\n",
              "       'State-gov', 'Self-emp-inc', 'Without-pay', 'Never-worked'],\n",
              "      dtype=object)"
            ]
          },
          "execution_count": 13,
          "metadata": {},
          "output_type": "execute_result"
        }
      ],
      "source": [
        "# check labels in workclass variable\n",
        "\n",
        "df.workclass.unique()"
      ]
    },
    {
      "cell_type": "code",
      "execution_count": null,
      "id": "c7427f89",
      "metadata": {
        "id": "c7427f89",
        "outputId": "99953d64-8199-4cb3-bc4b-2370bd14b8be"
      },
      "outputs": [
        {
          "data": {
            "text/plain": [
              "Private             33906\n",
              "Self-emp-not-inc     3862\n",
              "Local-gov            3136\n",
              "?                    2799\n",
              "State-gov            1981\n",
              "Self-emp-inc         1695\n",
              "Federal-gov          1432\n",
              "Without-pay            21\n",
              "Never-worked           10\n",
              "Name: workclass, dtype: int64"
            ]
          },
          "execution_count": 14,
          "metadata": {},
          "output_type": "execute_result"
        }
      ],
      "source": [
        "df.workclass.value_counts()"
      ]
    },
    {
      "cell_type": "code",
      "execution_count": null,
      "id": "4548a61e",
      "metadata": {
        "id": "4548a61e"
      },
      "outputs": [],
      "source": [
        "# replace '?' values in workclass variable with `NaN`\n",
        "\n",
        "\n",
        "df['workclass'].replace('?', np.NaN, inplace=True)"
      ]
    },
    {
      "cell_type": "code",
      "execution_count": null,
      "id": "66bb8727",
      "metadata": {
        "id": "66bb8727",
        "outputId": "9b7322af-f050-459f-c465-3d23bc49d082"
      },
      "outputs": [
        {
          "data": {
            "text/plain": [
              "Private             33906\n",
              "Self-emp-not-inc     3862\n",
              "Local-gov            3136\n",
              "State-gov            1981\n",
              "Self-emp-inc         1695\n",
              "Federal-gov          1432\n",
              "Without-pay            21\n",
              "Never-worked           10\n",
              "Name: workclass, dtype: int64"
            ]
          },
          "execution_count": 16,
          "metadata": {},
          "output_type": "execute_result"
        }
      ],
      "source": [
        "# again check the frequency distribution of values in workclass variable\n",
        "\n",
        "df.workclass.value_counts()"
      ]
    },
    {
      "cell_type": "code",
      "execution_count": null,
      "id": "8af2dbd8",
      "metadata": {
        "id": "8af2dbd8",
        "outputId": "5c044ca9-e92a-4716-87f1-7914b7777f32"
      },
      "outputs": [
        {
          "data": {
            "text/plain": [
              "array(['Machine-op-inspct', 'Farming-fishing', 'Protective-serv', '?',\n",
              "       'Other-service', 'Prof-specialty', 'Craft-repair', 'Adm-clerical',\n",
              "       'Exec-managerial', 'Tech-support', 'Sales', 'Priv-house-serv',\n",
              "       'Transport-moving', 'Handlers-cleaners', 'Armed-Forces'],\n",
              "      dtype=object)"
            ]
          },
          "execution_count": 17,
          "metadata": {},
          "output_type": "execute_result"
        }
      ],
      "source": [
        "# check labels in occupation variable\n",
        "\n",
        "df.occupation.unique()"
      ]
    },
    {
      "cell_type": "code",
      "execution_count": null,
      "id": "60cb22aa",
      "metadata": {
        "id": "60cb22aa",
        "outputId": "13f18afb-92d1-4c59-bb6f-23ac1fe5a78e"
      },
      "outputs": [
        {
          "data": {
            "text/plain": [
              "Prof-specialty       6172\n",
              "Craft-repair         6112\n",
              "Exec-managerial      6086\n",
              "Adm-clerical         5611\n",
              "Sales                5504\n",
              "Other-service        4923\n",
              "Machine-op-inspct    3022\n",
              "?                    2809\n",
              "Transport-moving     2355\n",
              "Handlers-cleaners    2072\n",
              "Farming-fishing      1490\n",
              "Tech-support         1446\n",
              "Protective-serv       983\n",
              "Priv-house-serv       242\n",
              "Armed-Forces           15\n",
              "Name: occupation, dtype: int64"
            ]
          },
          "execution_count": 18,
          "metadata": {},
          "output_type": "execute_result"
        }
      ],
      "source": [
        "# check frequency distribution of values in occupation variable\n",
        "\n",
        "df.occupation.value_counts()"
      ]
    },
    {
      "cell_type": "code",
      "execution_count": null,
      "id": "ca0e0753",
      "metadata": {
        "id": "ca0e0753"
      },
      "outputs": [],
      "source": [
        "# replace '?' values in occupation variable with `NaN`\n",
        "\n",
        "df['occupation'].replace('?', np.NaN, inplace=True)"
      ]
    },
    {
      "cell_type": "code",
      "execution_count": null,
      "id": "b26d1609",
      "metadata": {
        "id": "b26d1609",
        "outputId": "a1d0fe40-3775-448d-b436-2037ad4a9e99"
      },
      "outputs": [
        {
          "data": {
            "text/plain": [
              "Prof-specialty       6172\n",
              "Craft-repair         6112\n",
              "Exec-managerial      6086\n",
              "Adm-clerical         5611\n",
              "Sales                5504\n",
              "Other-service        4923\n",
              "Machine-op-inspct    3022\n",
              "Transport-moving     2355\n",
              "Handlers-cleaners    2072\n",
              "Farming-fishing      1490\n",
              "Tech-support         1446\n",
              "Protective-serv       983\n",
              "Priv-house-serv       242\n",
              "Armed-Forces           15\n",
              "Name: occupation, dtype: int64"
            ]
          },
          "execution_count": 20,
          "metadata": {},
          "output_type": "execute_result"
        }
      ],
      "source": [
        "# again check the frequency distribution of values in occupation variable\n",
        "\n",
        "df.occupation.value_counts()"
      ]
    },
    {
      "cell_type": "code",
      "execution_count": null,
      "id": "080b47ee",
      "metadata": {
        "id": "080b47ee",
        "outputId": "01cccb9f-cabc-49da-d638-77a156d8524b"
      },
      "outputs": [
        {
          "data": {
            "text/plain": [
              "array(['United-States', '?', 'Peru', 'Guatemala', 'Mexico',\n",
              "       'Dominican-Republic', 'Ireland', 'Germany', 'Philippines',\n",
              "       'Thailand', 'Haiti', 'El-Salvador', 'Puerto-Rico', 'Vietnam',\n",
              "       'South', 'Columbia', 'Japan', 'India', 'Cambodia', 'Poland',\n",
              "       'Laos', 'England', 'Cuba', 'Taiwan', 'Italy', 'Canada', 'Portugal',\n",
              "       'China', 'Nicaragua', 'Honduras', 'Iran', 'Scotland', 'Jamaica',\n",
              "       'Ecuador', 'Yugoslavia', 'Hungary', 'Hong', 'Greece',\n",
              "       'Trinadad&Tobago', 'Outlying-US(Guam-USVI-etc)', 'France',\n",
              "       'Holand-Netherlands'], dtype=object)"
            ]
          },
          "execution_count": 21,
          "metadata": {},
          "output_type": "execute_result"
        }
      ],
      "source": [
        "# check labels in native_country variable\n",
        "\n",
        "df.native_country.unique()"
      ]
    },
    {
      "cell_type": "code",
      "execution_count": null,
      "id": "8383460f",
      "metadata": {
        "id": "8383460f",
        "outputId": "2a6b778b-5cf6-4f21-ea80-5c26e977c79b"
      },
      "outputs": [
        {
          "data": {
            "text/plain": [
              "United-States                 43832\n",
              "Mexico                          951\n",
              "?                               857\n",
              "Philippines                     295\n",
              "Germany                         206\n",
              "Puerto-Rico                     184\n",
              "Canada                          182\n",
              "El-Salvador                     155\n",
              "India                           151\n",
              "Cuba                            138\n",
              "England                         127\n",
              "China                           122\n",
              "South                           115\n",
              "Jamaica                         106\n",
              "Italy                           105\n",
              "Dominican-Republic              103\n",
              "Japan                            92\n",
              "Guatemala                        88\n",
              "Poland                           87\n",
              "Vietnam                          86\n",
              "Columbia                         85\n",
              "Haiti                            75\n",
              "Portugal                         67\n",
              "Taiwan                           65\n",
              "Iran                             59\n",
              "Greece                           49\n",
              "Nicaragua                        49\n",
              "Peru                             46\n",
              "Ecuador                          45\n",
              "France                           38\n",
              "Ireland                          37\n",
              "Hong                             30\n",
              "Thailand                         30\n",
              "Cambodia                         28\n",
              "Trinadad&Tobago                  27\n",
              "Laos                             23\n",
              "Yugoslavia                       23\n",
              "Outlying-US(Guam-USVI-etc)       23\n",
              "Scotland                         21\n",
              "Honduras                         20\n",
              "Hungary                          19\n",
              "Holand-Netherlands                1\n",
              "Name: native_country, dtype: int64"
            ]
          },
          "execution_count": 22,
          "metadata": {},
          "output_type": "execute_result"
        }
      ],
      "source": [
        "# check frequency distribution of values in native_country variable\n",
        "\n",
        "df.native_country.value_counts()"
      ]
    },
    {
      "cell_type": "code",
      "execution_count": null,
      "id": "b0849ab0",
      "metadata": {
        "id": "b0849ab0"
      },
      "outputs": [],
      "source": [
        "# replace '?' values in native_country variable with `NaN`\n",
        "\n",
        "df['native_country'].replace('?', np.NaN, inplace=True)"
      ]
    },
    {
      "cell_type": "code",
      "execution_count": null,
      "id": "8f67dec3",
      "metadata": {
        "id": "8f67dec3",
        "outputId": "cfe74021-f34d-43eb-bf17-fd0f9d43518c"
      },
      "outputs": [
        {
          "data": {
            "text/plain": [
              "United-States                 43832\n",
              "Mexico                          951\n",
              "Philippines                     295\n",
              "Germany                         206\n",
              "Puerto-Rico                     184\n",
              "Canada                          182\n",
              "El-Salvador                     155\n",
              "India                           151\n",
              "Cuba                            138\n",
              "England                         127\n",
              "China                           122\n",
              "South                           115\n",
              "Jamaica                         106\n",
              "Italy                           105\n",
              "Dominican-Republic              103\n",
              "Japan                            92\n",
              "Guatemala                        88\n",
              "Poland                           87\n",
              "Vietnam                          86\n",
              "Columbia                         85\n",
              "Haiti                            75\n",
              "Portugal                         67\n",
              "Taiwan                           65\n",
              "Iran                             59\n",
              "Greece                           49\n",
              "Nicaragua                        49\n",
              "Peru                             46\n",
              "Ecuador                          45\n",
              "France                           38\n",
              "Ireland                          37\n",
              "Hong                             30\n",
              "Thailand                         30\n",
              "Cambodia                         28\n",
              "Trinadad&Tobago                  27\n",
              "Yugoslavia                       23\n",
              "Outlying-US(Guam-USVI-etc)       23\n",
              "Laos                             23\n",
              "Scotland                         21\n",
              "Honduras                         20\n",
              "Hungary                          19\n",
              "Holand-Netherlands                1\n",
              "Name: native_country, dtype: int64"
            ]
          },
          "execution_count": 24,
          "metadata": {},
          "output_type": "execute_result"
        }
      ],
      "source": [
        "# again check the frequency distribution of values in native_country variable\n",
        "\n",
        "df.native_country.value_counts()"
      ]
    },
    {
      "cell_type": "code",
      "execution_count": null,
      "id": "629bab97",
      "metadata": {
        "id": "629bab97",
        "outputId": "f3db4f2e-e7fb-4b85-d2d4-58a78841ad30"
      },
      "outputs": [
        {
          "data": {
            "text/plain": [
              "workclass         2799\n",
              "education            0\n",
              "marital_status       0\n",
              "occupation        2809\n",
              "relationship         0\n",
              "race                 0\n",
              "sex                  0\n",
              "native_country     857\n",
              "income               0\n",
              "dtype: int64"
            ]
          },
          "execution_count": 25,
          "metadata": {},
          "output_type": "execute_result"
        }
      ],
      "source": [
        "#Check missing values in categorical variables again\n",
        "df[categorical].isnull().sum()"
      ]
    },
    {
      "cell_type": "code",
      "execution_count": null,
      "id": "3a44c634",
      "metadata": {
        "id": "3a44c634",
        "outputId": "a746f29c-230f-4235-b13e-c72b8b161fca"
      },
      "outputs": [
        {
          "name": "stdout",
          "output_type": "stream",
          "text": [
            "workclass  contains  9  labels\n",
            "education  contains  16  labels\n",
            "marital_status  contains  7  labels\n",
            "occupation  contains  15  labels\n",
            "relationship  contains  6  labels\n",
            "race  contains  5  labels\n",
            "sex  contains  2  labels\n",
            "native_country  contains  42  labels\n",
            "income  contains  2  labels\n"
          ]
        }
      ],
      "source": [
        "# check for cardinality in categorical variables\n",
        "\n",
        "for var in categorical:\n",
        "    \n",
        "    print(var, ' contains ', len(df[var].unique()), ' labels')"
      ]
    },
    {
      "cell_type": "code",
      "execution_count": null,
      "id": "f3fb359d",
      "metadata": {
        "id": "f3fb359d",
        "outputId": "6ec3db65-1eb8-4a9c-97cb-456b4f9f028a"
      },
      "outputs": [
        {
          "name": "stdout",
          "output_type": "stream",
          "text": [
            "There are 6 numerical variables\n",
            "\n",
            "The numerical variables are : ['age', 'fnlwgt', 'education_num', 'capital_gain', 'capital_loss', 'hours_per_week']\n"
          ]
        }
      ],
      "source": [
        "# find numerical variables\n",
        "\n",
        "numerical = [var for var in df.columns if df[var].dtype!='O']\n",
        "\n",
        "print('There are {} numerical variables\\n'.format(len(numerical)))\n",
        "\n",
        "print('The numerical variables are :', numerical)"
      ]
    },
    {
      "cell_type": "code",
      "execution_count": null,
      "id": "46fc25a9",
      "metadata": {
        "id": "46fc25a9",
        "outputId": "a88e2de4-fcdd-403e-c78e-cebd17c489e3"
      },
      "outputs": [
        {
          "data": {
            "text/html": [
              "<div>\n",
              "<style scoped>\n",
              "    .dataframe tbody tr th:only-of-type {\n",
              "        vertical-align: middle;\n",
              "    }\n",
              "\n",
              "    .dataframe tbody tr th {\n",
              "        vertical-align: top;\n",
              "    }\n",
              "\n",
              "    .dataframe thead th {\n",
              "        text-align: right;\n",
              "    }\n",
              "</style>\n",
              "<table border=\"1\" class=\"dataframe\">\n",
              "  <thead>\n",
              "    <tr style=\"text-align: right;\">\n",
              "      <th></th>\n",
              "      <th>age</th>\n",
              "      <th>fnlwgt</th>\n",
              "      <th>education_num</th>\n",
              "      <th>capital_gain</th>\n",
              "      <th>capital_loss</th>\n",
              "      <th>hours_per_week</th>\n",
              "    </tr>\n",
              "  </thead>\n",
              "  <tbody>\n",
              "    <tr>\n",
              "      <th>0</th>\n",
              "      <td>25</td>\n",
              "      <td>226802</td>\n",
              "      <td>7</td>\n",
              "      <td>0</td>\n",
              "      <td>0</td>\n",
              "      <td>40</td>\n",
              "    </tr>\n",
              "    <tr>\n",
              "      <th>1</th>\n",
              "      <td>38</td>\n",
              "      <td>89814</td>\n",
              "      <td>9</td>\n",
              "      <td>0</td>\n",
              "      <td>0</td>\n",
              "      <td>50</td>\n",
              "    </tr>\n",
              "    <tr>\n",
              "      <th>2</th>\n",
              "      <td>28</td>\n",
              "      <td>336951</td>\n",
              "      <td>12</td>\n",
              "      <td>0</td>\n",
              "      <td>0</td>\n",
              "      <td>40</td>\n",
              "    </tr>\n",
              "    <tr>\n",
              "      <th>3</th>\n",
              "      <td>44</td>\n",
              "      <td>160323</td>\n",
              "      <td>10</td>\n",
              "      <td>7688</td>\n",
              "      <td>0</td>\n",
              "      <td>40</td>\n",
              "    </tr>\n",
              "    <tr>\n",
              "      <th>4</th>\n",
              "      <td>18</td>\n",
              "      <td>103497</td>\n",
              "      <td>10</td>\n",
              "      <td>0</td>\n",
              "      <td>0</td>\n",
              "      <td>30</td>\n",
              "    </tr>\n",
              "  </tbody>\n",
              "</table>\n",
              "</div>"
            ],
            "text/plain": [
              "   age  fnlwgt  education_num  capital_gain  capital_loss  hours_per_week\n",
              "0   25  226802              7             0             0              40\n",
              "1   38   89814              9             0             0              50\n",
              "2   28  336951             12             0             0              40\n",
              "3   44  160323             10          7688             0              40\n",
              "4   18  103497             10             0             0              30"
            ]
          },
          "execution_count": 28,
          "metadata": {},
          "output_type": "execute_result"
        }
      ],
      "source": [
        "# view the numerical variables\n",
        "\n",
        "df[numerical].head()"
      ]
    },
    {
      "cell_type": "code",
      "execution_count": null,
      "id": "cd3cde4d",
      "metadata": {
        "id": "cd3cde4d",
        "outputId": "dd782b08-947c-4408-ab64-df1d9a641778"
      },
      "outputs": [
        {
          "data": {
            "text/plain": [
              "age               0\n",
              "fnlwgt            0\n",
              "education_num     0\n",
              "capital_gain      0\n",
              "capital_loss      0\n",
              "hours_per_week    0\n",
              "dtype: int64"
            ]
          },
          "execution_count": 29,
          "metadata": {},
          "output_type": "execute_result"
        }
      ],
      "source": [
        "# check missing values in numerical variables\n",
        "\n",
        "df[numerical].isnull().sum()"
      ]
    },
    {
      "cell_type": "code",
      "execution_count": null,
      "id": "095d8958",
      "metadata": {
        "id": "095d8958"
      },
      "outputs": [],
      "source": [
        "#Declare feature vector and target variable\n",
        "X = df.drop(['income'], axis=1)\n",
        "\n",
        "y = df['income']"
      ]
    },
    {
      "cell_type": "code",
      "execution_count": null,
      "id": "6b56e71b",
      "metadata": {
        "id": "6b56e71b"
      },
      "outputs": [],
      "source": [
        "# split X and y into training and testing sets\n",
        "\n",
        "from sklearn.model_selection import train_test_split\n",
        "\n",
        "X_train, X_test, y_train, y_test = train_test_split(X, y, test_size = 0.3, random_state = 0)"
      ]
    },
    {
      "cell_type": "code",
      "execution_count": null,
      "id": "c835e91e",
      "metadata": {
        "id": "c835e91e",
        "outputId": "3b122921-52fb-4434-fb4a-074fdf10b4de"
      },
      "outputs": [
        {
          "data": {
            "text/plain": [
              "((34189, 14), (14653, 14))"
            ]
          },
          "execution_count": 32,
          "metadata": {},
          "output_type": "execute_result"
        }
      ],
      "source": [
        "# check the shape of X_train and X_test\n",
        "\n",
        "X_train.shape, X_test.shape"
      ]
    },
    {
      "cell_type": "code",
      "execution_count": null,
      "id": "01999c4d",
      "metadata": {
        "id": "01999c4d",
        "outputId": "abe2e699-bc8a-443e-aac2-9ab124f2a224"
      },
      "outputs": [
        {
          "data": {
            "text/plain": [
              "age                int64\n",
              "workclass         object\n",
              "fnlwgt             int64\n",
              "education         object\n",
              "education_num      int64\n",
              "marital_status    object\n",
              "occupation        object\n",
              "relationship      object\n",
              "race              object\n",
              "sex               object\n",
              "capital_gain       int64\n",
              "capital_loss       int64\n",
              "hours_per_week     int64\n",
              "native_country    object\n",
              "dtype: object"
            ]
          },
          "execution_count": 33,
          "metadata": {},
          "output_type": "execute_result"
        }
      ],
      "source": [
        "# check data types in X_train\n",
        "\n",
        "X_train.dtypes"
      ]
    },
    {
      "cell_type": "code",
      "execution_count": null,
      "id": "35375f23",
      "metadata": {
        "id": "35375f23",
        "outputId": "145549fc-9c9a-44a7-eb4d-e48cd6d9af52"
      },
      "outputs": [
        {
          "data": {
            "text/plain": [
              "['workclass',\n",
              " 'education',\n",
              " 'marital_status',\n",
              " 'occupation',\n",
              " 'relationship',\n",
              " 'race',\n",
              " 'sex',\n",
              " 'native_country']"
            ]
          },
          "execution_count": 34,
          "metadata": {},
          "output_type": "execute_result"
        }
      ],
      "source": [
        "# display categorical variables\n",
        "\n",
        "categorical = [col for col in X_train.columns if X_train[col].dtypes == 'O']\n",
        "\n",
        "categorical"
      ]
    },
    {
      "cell_type": "code",
      "execution_count": null,
      "id": "be6c8fd5",
      "metadata": {
        "id": "be6c8fd5",
        "outputId": "77b18a16-cd30-4149-ab8c-46f34f06ab3f"
      },
      "outputs": [
        {
          "data": {
            "text/plain": [
              "['age',\n",
              " 'fnlwgt',\n",
              " 'education_num',\n",
              " 'capital_gain',\n",
              " 'capital_loss',\n",
              " 'hours_per_week']"
            ]
          },
          "execution_count": 35,
          "metadata": {},
          "output_type": "execute_result"
        }
      ],
      "source": [
        "# display numerical variables\n",
        "\n",
        "numerical = [col for col in X_train.columns if X_train[col].dtypes != 'O']\n",
        "\n",
        "numerical\n"
      ]
    },
    {
      "cell_type": "code",
      "execution_count": null,
      "id": "4a466251",
      "metadata": {
        "id": "4a466251",
        "outputId": "27a9607f-58f7-4038-ef9f-4e478dcdbaef"
      },
      "outputs": [
        {
          "data": {
            "text/plain": [
              "workclass         0.057211\n",
              "education         0.000000\n",
              "marital_status    0.000000\n",
              "occupation        0.057358\n",
              "relationship      0.000000\n",
              "race              0.000000\n",
              "sex               0.000000\n",
              "native_country    0.017608\n",
              "dtype: float64"
            ]
          },
          "execution_count": 36,
          "metadata": {},
          "output_type": "execute_result"
        }
      ],
      "source": [
        "# print percentage of missing values in the categorical variables in training set\n",
        "\n",
        "X_train[categorical].isnull().mean()"
      ]
    },
    {
      "cell_type": "code",
      "execution_count": null,
      "id": "b1d35eb1",
      "metadata": {
        "id": "b1d35eb1",
        "outputId": "8b2fb82c-e068-4e4f-9a08-98fb7c61c5ae"
      },
      "outputs": [
        {
          "name": "stdout",
          "output_type": "stream",
          "text": [
            "workclass 0.05721138377840826\n",
            "occupation 0.05735762964696247\n",
            "native_country 0.017608002573927285\n"
          ]
        }
      ],
      "source": [
        "# print categorical variables with missing data\n",
        "\n",
        "for col in categorical:\n",
        "    if X_train[col].isnull().mean()>0:\n",
        "        print(col, (X_train[col].isnull().mean()))"
      ]
    },
    {
      "cell_type": "code",
      "execution_count": null,
      "id": "62960dbd",
      "metadata": {
        "id": "62960dbd"
      },
      "outputs": [],
      "source": [
        "# impute missing categorical variables with most frequent value\n",
        "\n",
        "for df2 in [X_train, X_test]:\n",
        "    df2['workclass'].fillna(X_train['workclass'].mode()[0], inplace=True)\n",
        "    df2['occupation'].fillna(X_train['occupation'].mode()[0], inplace=True)\n",
        "    df2['native_country'].fillna(X_train['native_country'].mode()[0], inplace=True)   "
      ]
    },
    {
      "cell_type": "code",
      "execution_count": null,
      "id": "3357f7ab",
      "metadata": {
        "id": "3357f7ab",
        "outputId": "5451c617-aa81-4044-de5b-5712cc2b7a0c"
      },
      "outputs": [
        {
          "data": {
            "text/plain": [
              "workclass         0\n",
              "education         0\n",
              "marital_status    0\n",
              "occupation        0\n",
              "relationship      0\n",
              "race              0\n",
              "sex               0\n",
              "native_country    0\n",
              "dtype: int64"
            ]
          },
          "execution_count": 39,
          "metadata": {},
          "output_type": "execute_result"
        }
      ],
      "source": [
        "#check missing values in categorical variables in X_train\n",
        "\n",
        "X_train[categorical].isnull().sum()"
      ]
    },
    {
      "cell_type": "code",
      "execution_count": null,
      "id": "8b837472",
      "metadata": {
        "id": "8b837472",
        "outputId": "87668d9a-ee63-4e87-e91a-5a53230bb82c"
      },
      "outputs": [
        {
          "data": {
            "text/plain": [
              "workclass         0\n",
              "education         0\n",
              "marital_status    0\n",
              "occupation        0\n",
              "relationship      0\n",
              "race              0\n",
              "sex               0\n",
              "native_country    0\n",
              "dtype: int64"
            ]
          },
          "execution_count": 40,
          "metadata": {},
          "output_type": "execute_result"
        }
      ],
      "source": [
        "# check missing values in categorical variables in X_test\n",
        "\n",
        "X_test[categorical].isnull().sum()"
      ]
    },
    {
      "cell_type": "code",
      "execution_count": null,
      "id": "498ea05d",
      "metadata": {
        "id": "498ea05d",
        "outputId": "b9b8cf1c-6049-4719-dd8f-dfb765db87f4"
      },
      "outputs": [
        {
          "data": {
            "text/plain": [
              "age               0\n",
              "workclass         0\n",
              "fnlwgt            0\n",
              "education         0\n",
              "education_num     0\n",
              "marital_status    0\n",
              "occupation        0\n",
              "relationship      0\n",
              "race              0\n",
              "sex               0\n",
              "capital_gain      0\n",
              "capital_loss      0\n",
              "hours_per_week    0\n",
              "native_country    0\n",
              "dtype: int64"
            ]
          },
          "execution_count": 41,
          "metadata": {},
          "output_type": "execute_result"
        }
      ],
      "source": [
        "# check missing values in X_train\n",
        "\n",
        "X_train.isnull().sum()"
      ]
    },
    {
      "cell_type": "code",
      "execution_count": null,
      "id": "8152816f",
      "metadata": {
        "id": "8152816f",
        "outputId": "4365d4d8-7a0b-4c7b-dd32-ef3c86aa421c"
      },
      "outputs": [
        {
          "data": {
            "text/plain": [
              "age               0\n",
              "workclass         0\n",
              "fnlwgt            0\n",
              "education         0\n",
              "education_num     0\n",
              "marital_status    0\n",
              "occupation        0\n",
              "relationship      0\n",
              "race              0\n",
              "sex               0\n",
              "capital_gain      0\n",
              "capital_loss      0\n",
              "hours_per_week    0\n",
              "native_country    0\n",
              "dtype: int64"
            ]
          },
          "execution_count": 42,
          "metadata": {},
          "output_type": "execute_result"
        }
      ],
      "source": [
        "# check missing values in X_test\n",
        "\n",
        "X_test.isnull().sum()"
      ]
    },
    {
      "cell_type": "code",
      "execution_count": null,
      "id": "0ab96eed",
      "metadata": {
        "id": "0ab96eed"
      },
      "outputs": [],
      "source": [
        "# import category encoders\n",
        "\n",
        "import category_encoders as ce"
      ]
    },
    {
      "cell_type": "code",
      "execution_count": null,
      "id": "c9e5b352",
      "metadata": {
        "id": "c9e5b352"
      },
      "outputs": [],
      "source": [
        "# encode remaining variables with one-hot encoding\n",
        "\n",
        "encoder = ce.OneHotEncoder(cols=['workclass', 'education', 'marital_status', 'occupation', 'relationship', \n",
        "                                 'race', 'sex', 'native_country'])\n",
        "\n",
        "X_train = encoder.fit_transform(X_train)\n",
        "\n",
        "X_test = encoder.transform(X_test)"
      ]
    },
    {
      "cell_type": "code",
      "execution_count": null,
      "id": "26dfff54",
      "metadata": {
        "id": "26dfff54",
        "outputId": "27914444-4b8e-4ce7-87be-9be12f1224d5"
      },
      "outputs": [
        {
          "data": {
            "text/html": [
              "<div>\n",
              "<style scoped>\n",
              "    .dataframe tbody tr th:only-of-type {\n",
              "        vertical-align: middle;\n",
              "    }\n",
              "\n",
              "    .dataframe tbody tr th {\n",
              "        vertical-align: top;\n",
              "    }\n",
              "\n",
              "    .dataframe thead th {\n",
              "        text-align: right;\n",
              "    }\n",
              "</style>\n",
              "<table border=\"1\" class=\"dataframe\">\n",
              "  <thead>\n",
              "    <tr style=\"text-align: right;\">\n",
              "      <th></th>\n",
              "      <th>age</th>\n",
              "      <th>workclass_1</th>\n",
              "      <th>workclass_2</th>\n",
              "      <th>workclass_3</th>\n",
              "      <th>workclass_4</th>\n",
              "      <th>workclass_5</th>\n",
              "      <th>workclass_6</th>\n",
              "      <th>workclass_7</th>\n",
              "      <th>workclass_8</th>\n",
              "      <th>fnlwgt</th>\n",
              "      <th>...</th>\n",
              "      <th>native_country_32</th>\n",
              "      <th>native_country_33</th>\n",
              "      <th>native_country_34</th>\n",
              "      <th>native_country_35</th>\n",
              "      <th>native_country_36</th>\n",
              "      <th>native_country_37</th>\n",
              "      <th>native_country_38</th>\n",
              "      <th>native_country_39</th>\n",
              "      <th>native_country_40</th>\n",
              "      <th>native_country_41</th>\n",
              "    </tr>\n",
              "  </thead>\n",
              "  <tbody>\n",
              "    <tr>\n",
              "      <th>3833</th>\n",
              "      <td>27</td>\n",
              "      <td>1</td>\n",
              "      <td>0</td>\n",
              "      <td>0</td>\n",
              "      <td>0</td>\n",
              "      <td>0</td>\n",
              "      <td>0</td>\n",
              "      <td>0</td>\n",
              "      <td>0</td>\n",
              "      <td>131310</td>\n",
              "      <td>...</td>\n",
              "      <td>0</td>\n",
              "      <td>0</td>\n",
              "      <td>0</td>\n",
              "      <td>0</td>\n",
              "      <td>0</td>\n",
              "      <td>0</td>\n",
              "      <td>0</td>\n",
              "      <td>0</td>\n",
              "      <td>0</td>\n",
              "      <td>0</td>\n",
              "    </tr>\n",
              "    <tr>\n",
              "      <th>34743</th>\n",
              "      <td>42</td>\n",
              "      <td>0</td>\n",
              "      <td>1</td>\n",
              "      <td>0</td>\n",
              "      <td>0</td>\n",
              "      <td>0</td>\n",
              "      <td>0</td>\n",
              "      <td>0</td>\n",
              "      <td>0</td>\n",
              "      <td>367533</td>\n",
              "      <td>...</td>\n",
              "      <td>0</td>\n",
              "      <td>0</td>\n",
              "      <td>0</td>\n",
              "      <td>0</td>\n",
              "      <td>0</td>\n",
              "      <td>0</td>\n",
              "      <td>0</td>\n",
              "      <td>0</td>\n",
              "      <td>0</td>\n",
              "      <td>0</td>\n",
              "    </tr>\n",
              "    <tr>\n",
              "      <th>2022</th>\n",
              "      <td>32</td>\n",
              "      <td>0</td>\n",
              "      <td>0</td>\n",
              "      <td>1</td>\n",
              "      <td>0</td>\n",
              "      <td>0</td>\n",
              "      <td>0</td>\n",
              "      <td>0</td>\n",
              "      <td>0</td>\n",
              "      <td>38158</td>\n",
              "      <td>...</td>\n",
              "      <td>0</td>\n",
              "      <td>0</td>\n",
              "      <td>0</td>\n",
              "      <td>0</td>\n",
              "      <td>0</td>\n",
              "      <td>0</td>\n",
              "      <td>0</td>\n",
              "      <td>0</td>\n",
              "      <td>0</td>\n",
              "      <td>0</td>\n",
              "    </tr>\n",
              "    <tr>\n",
              "      <th>1580</th>\n",
              "      <td>36</td>\n",
              "      <td>0</td>\n",
              "      <td>1</td>\n",
              "      <td>0</td>\n",
              "      <td>0</td>\n",
              "      <td>0</td>\n",
              "      <td>0</td>\n",
              "      <td>0</td>\n",
              "      <td>0</td>\n",
              "      <td>148903</td>\n",
              "      <td>...</td>\n",
              "      <td>0</td>\n",
              "      <td>0</td>\n",
              "      <td>0</td>\n",
              "      <td>0</td>\n",
              "      <td>0</td>\n",
              "      <td>0</td>\n",
              "      <td>0</td>\n",
              "      <td>0</td>\n",
              "      <td>0</td>\n",
              "      <td>0</td>\n",
              "    </tr>\n",
              "    <tr>\n",
              "      <th>4612</th>\n",
              "      <td>29</td>\n",
              "      <td>0</td>\n",
              "      <td>1</td>\n",
              "      <td>0</td>\n",
              "      <td>0</td>\n",
              "      <td>0</td>\n",
              "      <td>0</td>\n",
              "      <td>0</td>\n",
              "      <td>0</td>\n",
              "      <td>359155</td>\n",
              "      <td>...</td>\n",
              "      <td>0</td>\n",
              "      <td>0</td>\n",
              "      <td>0</td>\n",
              "      <td>0</td>\n",
              "      <td>0</td>\n",
              "      <td>0</td>\n",
              "      <td>0</td>\n",
              "      <td>0</td>\n",
              "      <td>0</td>\n",
              "      <td>0</td>\n",
              "    </tr>\n",
              "  </tbody>\n",
              "</table>\n",
              "<p>5 rows × 105 columns</p>\n",
              "</div>"
            ],
            "text/plain": [
              "       age  workclass_1  workclass_2  workclass_3  workclass_4  workclass_5  \\\n",
              "3833    27            1            0            0            0            0   \n",
              "34743   42            0            1            0            0            0   \n",
              "2022    32            0            0            1            0            0   \n",
              "1580    36            0            1            0            0            0   \n",
              "4612    29            0            1            0            0            0   \n",
              "\n",
              "       workclass_6  workclass_7  workclass_8  fnlwgt  ...  native_country_32  \\\n",
              "3833             0            0            0  131310  ...                  0   \n",
              "34743            0            0            0  367533  ...                  0   \n",
              "2022             0            0            0   38158  ...                  0   \n",
              "1580             0            0            0  148903  ...                  0   \n",
              "4612             0            0            0  359155  ...                  0   \n",
              "\n",
              "       native_country_33  native_country_34  native_country_35  \\\n",
              "3833                   0                  0                  0   \n",
              "34743                  0                  0                  0   \n",
              "2022                   0                  0                  0   \n",
              "1580                   0                  0                  0   \n",
              "4612                   0                  0                  0   \n",
              "\n",
              "       native_country_36  native_country_37  native_country_38  \\\n",
              "3833                   0                  0                  0   \n",
              "34743                  0                  0                  0   \n",
              "2022                   0                  0                  0   \n",
              "1580                   0                  0                  0   \n",
              "4612                   0                  0                  0   \n",
              "\n",
              "       native_country_39  native_country_40  native_country_41  \n",
              "3833                   0                  0                  0  \n",
              "34743                  0                  0                  0  \n",
              "2022                   0                  0                  0  \n",
              "1580                   0                  0                  0  \n",
              "4612                   0                  0                  0  \n",
              "\n",
              "[5 rows x 105 columns]"
            ]
          },
          "execution_count": 45,
          "metadata": {},
          "output_type": "execute_result"
        }
      ],
      "source": [
        "X_train.head()"
      ]
    },
    {
      "cell_type": "code",
      "execution_count": null,
      "id": "cd14d752",
      "metadata": {
        "id": "cd14d752",
        "outputId": "9aa58b9d-23c6-4acf-b357-3dc02766d30b"
      },
      "outputs": [
        {
          "data": {
            "text/plain": [
              "(34189, 105)"
            ]
          },
          "execution_count": 46,
          "metadata": {},
          "output_type": "execute_result"
        }
      ],
      "source": [
        "X_train.shape"
      ]
    },
    {
      "cell_type": "code",
      "execution_count": null,
      "id": "527bdaa6",
      "metadata": {
        "id": "527bdaa6",
        "outputId": "6d6dfd2a-be57-41b6-c5d7-7093327a3c91"
      },
      "outputs": [
        {
          "data": {
            "text/html": [
              "<div>\n",
              "<style scoped>\n",
              "    .dataframe tbody tr th:only-of-type {\n",
              "        vertical-align: middle;\n",
              "    }\n",
              "\n",
              "    .dataframe tbody tr th {\n",
              "        vertical-align: top;\n",
              "    }\n",
              "\n",
              "    .dataframe thead th {\n",
              "        text-align: right;\n",
              "    }\n",
              "</style>\n",
              "<table border=\"1\" class=\"dataframe\">\n",
              "  <thead>\n",
              "    <tr style=\"text-align: right;\">\n",
              "      <th></th>\n",
              "      <th>age</th>\n",
              "      <th>workclass_1</th>\n",
              "      <th>workclass_2</th>\n",
              "      <th>workclass_3</th>\n",
              "      <th>workclass_4</th>\n",
              "      <th>workclass_5</th>\n",
              "      <th>workclass_6</th>\n",
              "      <th>workclass_7</th>\n",
              "      <th>workclass_8</th>\n",
              "      <th>fnlwgt</th>\n",
              "      <th>...</th>\n",
              "      <th>native_country_32</th>\n",
              "      <th>native_country_33</th>\n",
              "      <th>native_country_34</th>\n",
              "      <th>native_country_35</th>\n",
              "      <th>native_country_36</th>\n",
              "      <th>native_country_37</th>\n",
              "      <th>native_country_38</th>\n",
              "      <th>native_country_39</th>\n",
              "      <th>native_country_40</th>\n",
              "      <th>native_country_41</th>\n",
              "    </tr>\n",
              "  </thead>\n",
              "  <tbody>\n",
              "    <tr>\n",
              "      <th>38113</th>\n",
              "      <td>36</td>\n",
              "      <td>0</td>\n",
              "      <td>1</td>\n",
              "      <td>0</td>\n",
              "      <td>0</td>\n",
              "      <td>0</td>\n",
              "      <td>0</td>\n",
              "      <td>0</td>\n",
              "      <td>0</td>\n",
              "      <td>65624</td>\n",
              "      <td>...</td>\n",
              "      <td>0</td>\n",
              "      <td>0</td>\n",
              "      <td>0</td>\n",
              "      <td>0</td>\n",
              "      <td>0</td>\n",
              "      <td>0</td>\n",
              "      <td>0</td>\n",
              "      <td>0</td>\n",
              "      <td>0</td>\n",
              "      <td>0</td>\n",
              "    </tr>\n",
              "    <tr>\n",
              "      <th>39214</th>\n",
              "      <td>57</td>\n",
              "      <td>0</td>\n",
              "      <td>0</td>\n",
              "      <td>0</td>\n",
              "      <td>0</td>\n",
              "      <td>1</td>\n",
              "      <td>0</td>\n",
              "      <td>0</td>\n",
              "      <td>0</td>\n",
              "      <td>37345</td>\n",
              "      <td>...</td>\n",
              "      <td>0</td>\n",
              "      <td>0</td>\n",
              "      <td>0</td>\n",
              "      <td>0</td>\n",
              "      <td>0</td>\n",
              "      <td>0</td>\n",
              "      <td>0</td>\n",
              "      <td>0</td>\n",
              "      <td>0</td>\n",
              "      <td>0</td>\n",
              "    </tr>\n",
              "    <tr>\n",
              "      <th>44248</th>\n",
              "      <td>49</td>\n",
              "      <td>0</td>\n",
              "      <td>1</td>\n",
              "      <td>0</td>\n",
              "      <td>0</td>\n",
              "      <td>0</td>\n",
              "      <td>0</td>\n",
              "      <td>0</td>\n",
              "      <td>0</td>\n",
              "      <td>287647</td>\n",
              "      <td>...</td>\n",
              "      <td>0</td>\n",
              "      <td>0</td>\n",
              "      <td>0</td>\n",
              "      <td>0</td>\n",
              "      <td>0</td>\n",
              "      <td>0</td>\n",
              "      <td>0</td>\n",
              "      <td>0</td>\n",
              "      <td>0</td>\n",
              "      <td>0</td>\n",
              "    </tr>\n",
              "    <tr>\n",
              "      <th>10283</th>\n",
              "      <td>54</td>\n",
              "      <td>0</td>\n",
              "      <td>0</td>\n",
              "      <td>1</td>\n",
              "      <td>0</td>\n",
              "      <td>0</td>\n",
              "      <td>0</td>\n",
              "      <td>0</td>\n",
              "      <td>0</td>\n",
              "      <td>183668</td>\n",
              "      <td>...</td>\n",
              "      <td>0</td>\n",
              "      <td>0</td>\n",
              "      <td>0</td>\n",
              "      <td>0</td>\n",
              "      <td>0</td>\n",
              "      <td>0</td>\n",
              "      <td>0</td>\n",
              "      <td>0</td>\n",
              "      <td>0</td>\n",
              "      <td>0</td>\n",
              "    </tr>\n",
              "    <tr>\n",
              "      <th>26724</th>\n",
              "      <td>17</td>\n",
              "      <td>0</td>\n",
              "      <td>0</td>\n",
              "      <td>1</td>\n",
              "      <td>0</td>\n",
              "      <td>0</td>\n",
              "      <td>0</td>\n",
              "      <td>0</td>\n",
              "      <td>0</td>\n",
              "      <td>228786</td>\n",
              "      <td>...</td>\n",
              "      <td>0</td>\n",
              "      <td>0</td>\n",
              "      <td>0</td>\n",
              "      <td>0</td>\n",
              "      <td>0</td>\n",
              "      <td>0</td>\n",
              "      <td>0</td>\n",
              "      <td>0</td>\n",
              "      <td>0</td>\n",
              "      <td>0</td>\n",
              "    </tr>\n",
              "  </tbody>\n",
              "</table>\n",
              "<p>5 rows × 105 columns</p>\n",
              "</div>"
            ],
            "text/plain": [
              "       age  workclass_1  workclass_2  workclass_3  workclass_4  workclass_5  \\\n",
              "38113   36            0            1            0            0            0   \n",
              "39214   57            0            0            0            0            1   \n",
              "44248   49            0            1            0            0            0   \n",
              "10283   54            0            0            1            0            0   \n",
              "26724   17            0            0            1            0            0   \n",
              "\n",
              "       workclass_6  workclass_7  workclass_8  fnlwgt  ...  native_country_32  \\\n",
              "38113            0            0            0   65624  ...                  0   \n",
              "39214            0            0            0   37345  ...                  0   \n",
              "44248            0            0            0  287647  ...                  0   \n",
              "10283            0            0            0  183668  ...                  0   \n",
              "26724            0            0            0  228786  ...                  0   \n",
              "\n",
              "       native_country_33  native_country_34  native_country_35  \\\n",
              "38113                  0                  0                  0   \n",
              "39214                  0                  0                  0   \n",
              "44248                  0                  0                  0   \n",
              "10283                  0                  0                  0   \n",
              "26724                  0                  0                  0   \n",
              "\n",
              "       native_country_36  native_country_37  native_country_38  \\\n",
              "38113                  0                  0                  0   \n",
              "39214                  0                  0                  0   \n",
              "44248                  0                  0                  0   \n",
              "10283                  0                  0                  0   \n",
              "26724                  0                  0                  0   \n",
              "\n",
              "       native_country_39  native_country_40  native_country_41  \n",
              "38113                  0                  0                  0  \n",
              "39214                  0                  0                  0  \n",
              "44248                  0                  0                  0  \n",
              "10283                  0                  0                  0  \n",
              "26724                  0                  0                  0  \n",
              "\n",
              "[5 rows x 105 columns]"
            ]
          },
          "execution_count": 47,
          "metadata": {},
          "output_type": "execute_result"
        }
      ],
      "source": [
        "X_test.head()"
      ]
    },
    {
      "cell_type": "code",
      "execution_count": null,
      "id": "d277596f",
      "metadata": {
        "id": "d277596f",
        "outputId": "919f0654-f786-4898-c939-5378d667b615"
      },
      "outputs": [
        {
          "data": {
            "text/plain": [
              "(14653, 105)"
            ]
          },
          "execution_count": 48,
          "metadata": {},
          "output_type": "execute_result"
        }
      ],
      "source": [
        "X_test.shape"
      ]
    },
    {
      "cell_type": "code",
      "execution_count": null,
      "id": "bd78f07b",
      "metadata": {
        "id": "bd78f07b"
      },
      "outputs": [],
      "source": [
        "cols = X_train.columns"
      ]
    },
    {
      "cell_type": "code",
      "execution_count": null,
      "id": "6a4b98c0",
      "metadata": {
        "id": "6a4b98c0"
      },
      "outputs": [],
      "source": [
        "from sklearn.preprocessing import RobustScaler\n",
        "\n",
        "scaler = RobustScaler()\n",
        "\n",
        "X_train = scaler.fit_transform(X_train)\n",
        "\n",
        "X_test = scaler.transform(X_test)"
      ]
    },
    {
      "cell_type": "code",
      "execution_count": null,
      "id": "1220fd79",
      "metadata": {
        "id": "1220fd79"
      },
      "outputs": [],
      "source": [
        "X_train = pd.DataFrame(X_train, columns=[cols])"
      ]
    },
    {
      "cell_type": "code",
      "execution_count": null,
      "id": "7cdd78e8",
      "metadata": {
        "id": "7cdd78e8"
      },
      "outputs": [],
      "source": [
        "X_test = pd.DataFrame(X_test, columns=[cols])"
      ]
    },
    {
      "cell_type": "code",
      "execution_count": null,
      "id": "06939539",
      "metadata": {
        "id": "06939539",
        "outputId": "dfb0874c-c141-4712-89ed-901739c08cd3"
      },
      "outputs": [
        {
          "data": {
            "text/html": [
              "<div>\n",
              "<style scoped>\n",
              "    .dataframe tbody tr th:only-of-type {\n",
              "        vertical-align: middle;\n",
              "    }\n",
              "\n",
              "    .dataframe tbody tr th {\n",
              "        vertical-align: top;\n",
              "    }\n",
              "\n",
              "    .dataframe thead tr th {\n",
              "        text-align: left;\n",
              "    }\n",
              "</style>\n",
              "<table border=\"1\" class=\"dataframe\">\n",
              "  <thead>\n",
              "    <tr>\n",
              "      <th></th>\n",
              "      <th>age</th>\n",
              "      <th>workclass_1</th>\n",
              "      <th>workclass_2</th>\n",
              "      <th>workclass_3</th>\n",
              "      <th>workclass_4</th>\n",
              "      <th>workclass_5</th>\n",
              "      <th>workclass_6</th>\n",
              "      <th>workclass_7</th>\n",
              "      <th>workclass_8</th>\n",
              "      <th>fnlwgt</th>\n",
              "      <th>...</th>\n",
              "      <th>native_country_32</th>\n",
              "      <th>native_country_33</th>\n",
              "      <th>native_country_34</th>\n",
              "      <th>native_country_35</th>\n",
              "      <th>native_country_36</th>\n",
              "      <th>native_country_37</th>\n",
              "      <th>native_country_38</th>\n",
              "      <th>native_country_39</th>\n",
              "      <th>native_country_40</th>\n",
              "      <th>native_country_41</th>\n",
              "    </tr>\n",
              "  </thead>\n",
              "  <tbody>\n",
              "    <tr>\n",
              "      <th>0</th>\n",
              "      <td>-0.50</td>\n",
              "      <td>1.0</td>\n",
              "      <td>-1.0</td>\n",
              "      <td>0.0</td>\n",
              "      <td>0.0</td>\n",
              "      <td>0.0</td>\n",
              "      <td>0.0</td>\n",
              "      <td>0.0</td>\n",
              "      <td>0.0</td>\n",
              "      <td>-0.387237</td>\n",
              "      <td>...</td>\n",
              "      <td>0.0</td>\n",
              "      <td>0.0</td>\n",
              "      <td>0.0</td>\n",
              "      <td>0.0</td>\n",
              "      <td>0.0</td>\n",
              "      <td>0.0</td>\n",
              "      <td>0.0</td>\n",
              "      <td>0.0</td>\n",
              "      <td>0.0</td>\n",
              "      <td>0.0</td>\n",
              "    </tr>\n",
              "    <tr>\n",
              "      <th>1</th>\n",
              "      <td>0.25</td>\n",
              "      <td>0.0</td>\n",
              "      <td>0.0</td>\n",
              "      <td>0.0</td>\n",
              "      <td>0.0</td>\n",
              "      <td>0.0</td>\n",
              "      <td>0.0</td>\n",
              "      <td>0.0</td>\n",
              "      <td>0.0</td>\n",
              "      <td>1.575857</td>\n",
              "      <td>...</td>\n",
              "      <td>0.0</td>\n",
              "      <td>0.0</td>\n",
              "      <td>0.0</td>\n",
              "      <td>0.0</td>\n",
              "      <td>0.0</td>\n",
              "      <td>0.0</td>\n",
              "      <td>0.0</td>\n",
              "      <td>0.0</td>\n",
              "      <td>0.0</td>\n",
              "      <td>0.0</td>\n",
              "    </tr>\n",
              "    <tr>\n",
              "      <th>2</th>\n",
              "      <td>-0.25</td>\n",
              "      <td>0.0</td>\n",
              "      <td>-1.0</td>\n",
              "      <td>1.0</td>\n",
              "      <td>0.0</td>\n",
              "      <td>0.0</td>\n",
              "      <td>0.0</td>\n",
              "      <td>0.0</td>\n",
              "      <td>0.0</td>\n",
              "      <td>-1.161362</td>\n",
              "      <td>...</td>\n",
              "      <td>0.0</td>\n",
              "      <td>0.0</td>\n",
              "      <td>0.0</td>\n",
              "      <td>0.0</td>\n",
              "      <td>0.0</td>\n",
              "      <td>0.0</td>\n",
              "      <td>0.0</td>\n",
              "      <td>0.0</td>\n",
              "      <td>0.0</td>\n",
              "      <td>0.0</td>\n",
              "    </tr>\n",
              "    <tr>\n",
              "      <th>3</th>\n",
              "      <td>-0.05</td>\n",
              "      <td>0.0</td>\n",
              "      <td>0.0</td>\n",
              "      <td>0.0</td>\n",
              "      <td>0.0</td>\n",
              "      <td>0.0</td>\n",
              "      <td>0.0</td>\n",
              "      <td>0.0</td>\n",
              "      <td>0.0</td>\n",
              "      <td>-0.241033</td>\n",
              "      <td>...</td>\n",
              "      <td>0.0</td>\n",
              "      <td>0.0</td>\n",
              "      <td>0.0</td>\n",
              "      <td>0.0</td>\n",
              "      <td>0.0</td>\n",
              "      <td>0.0</td>\n",
              "      <td>0.0</td>\n",
              "      <td>0.0</td>\n",
              "      <td>0.0</td>\n",
              "      <td>0.0</td>\n",
              "    </tr>\n",
              "    <tr>\n",
              "      <th>4</th>\n",
              "      <td>-0.40</td>\n",
              "      <td>0.0</td>\n",
              "      <td>0.0</td>\n",
              "      <td>0.0</td>\n",
              "      <td>0.0</td>\n",
              "      <td>0.0</td>\n",
              "      <td>0.0</td>\n",
              "      <td>0.0</td>\n",
              "      <td>0.0</td>\n",
              "      <td>1.506233</td>\n",
              "      <td>...</td>\n",
              "      <td>0.0</td>\n",
              "      <td>0.0</td>\n",
              "      <td>0.0</td>\n",
              "      <td>0.0</td>\n",
              "      <td>0.0</td>\n",
              "      <td>0.0</td>\n",
              "      <td>0.0</td>\n",
              "      <td>0.0</td>\n",
              "      <td>0.0</td>\n",
              "      <td>0.0</td>\n",
              "    </tr>\n",
              "  </tbody>\n",
              "</table>\n",
              "<p>5 rows × 105 columns</p>\n",
              "</div>"
            ],
            "text/plain": [
              "    age workclass_1 workclass_2 workclass_3 workclass_4 workclass_5  \\\n",
              "0 -0.50         1.0        -1.0         0.0         0.0         0.0   \n",
              "1  0.25         0.0         0.0         0.0         0.0         0.0   \n",
              "2 -0.25         0.0        -1.0         1.0         0.0         0.0   \n",
              "3 -0.05         0.0         0.0         0.0         0.0         0.0   \n",
              "4 -0.40         0.0         0.0         0.0         0.0         0.0   \n",
              "\n",
              "  workclass_6 workclass_7 workclass_8    fnlwgt  ... native_country_32  \\\n",
              "0         0.0         0.0         0.0 -0.387237  ...               0.0   \n",
              "1         0.0         0.0         0.0  1.575857  ...               0.0   \n",
              "2         0.0         0.0         0.0 -1.161362  ...               0.0   \n",
              "3         0.0         0.0         0.0 -0.241033  ...               0.0   \n",
              "4         0.0         0.0         0.0  1.506233  ...               0.0   \n",
              "\n",
              "  native_country_33 native_country_34 native_country_35 native_country_36  \\\n",
              "0               0.0               0.0               0.0               0.0   \n",
              "1               0.0               0.0               0.0               0.0   \n",
              "2               0.0               0.0               0.0               0.0   \n",
              "3               0.0               0.0               0.0               0.0   \n",
              "4               0.0               0.0               0.0               0.0   \n",
              "\n",
              "  native_country_37 native_country_38 native_country_39 native_country_40  \\\n",
              "0               0.0               0.0               0.0               0.0   \n",
              "1               0.0               0.0               0.0               0.0   \n",
              "2               0.0               0.0               0.0               0.0   \n",
              "3               0.0               0.0               0.0               0.0   \n",
              "4               0.0               0.0               0.0               0.0   \n",
              "\n",
              "  native_country_41  \n",
              "0               0.0  \n",
              "1               0.0  \n",
              "2               0.0  \n",
              "3               0.0  \n",
              "4               0.0  \n",
              "\n",
              "[5 rows x 105 columns]"
            ]
          },
          "execution_count": 53,
          "metadata": {},
          "output_type": "execute_result"
        }
      ],
      "source": [
        "X_train.head()"
      ]
    },
    {
      "cell_type": "code",
      "execution_count": null,
      "id": "96db8b1e",
      "metadata": {
        "id": "96db8b1e",
        "outputId": "5098cb99-bdef-48bc-e7f4-8fe4a036e8b4"
      },
      "outputs": [
        {
          "data": {
            "text/html": [
              "<style>#sk-container-id-1 {color: black;background-color: white;}#sk-container-id-1 pre{padding: 0;}#sk-container-id-1 div.sk-toggleable {background-color: white;}#sk-container-id-1 label.sk-toggleable__label {cursor: pointer;display: block;width: 100%;margin-bottom: 0;padding: 0.3em;box-sizing: border-box;text-align: center;}#sk-container-id-1 label.sk-toggleable__label-arrow:before {content: \"▸\";float: left;margin-right: 0.25em;color: #696969;}#sk-container-id-1 label.sk-toggleable__label-arrow:hover:before {color: black;}#sk-container-id-1 div.sk-estimator:hover label.sk-toggleable__label-arrow:before {color: black;}#sk-container-id-1 div.sk-toggleable__content {max-height: 0;max-width: 0;overflow: hidden;text-align: left;background-color: #f0f8ff;}#sk-container-id-1 div.sk-toggleable__content pre {margin: 0.2em;color: black;border-radius: 0.25em;background-color: #f0f8ff;}#sk-container-id-1 input.sk-toggleable__control:checked~div.sk-toggleable__content {max-height: 200px;max-width: 100%;overflow: auto;}#sk-container-id-1 input.sk-toggleable__control:checked~label.sk-toggleable__label-arrow:before {content: \"▾\";}#sk-container-id-1 div.sk-estimator input.sk-toggleable__control:checked~label.sk-toggleable__label {background-color: #d4ebff;}#sk-container-id-1 div.sk-label input.sk-toggleable__control:checked~label.sk-toggleable__label {background-color: #d4ebff;}#sk-container-id-1 input.sk-hidden--visually {border: 0;clip: rect(1px 1px 1px 1px);clip: rect(1px, 1px, 1px, 1px);height: 1px;margin: -1px;overflow: hidden;padding: 0;position: absolute;width: 1px;}#sk-container-id-1 div.sk-estimator {font-family: monospace;background-color: #f0f8ff;border: 1px dotted black;border-radius: 0.25em;box-sizing: border-box;margin-bottom: 0.5em;}#sk-container-id-1 div.sk-estimator:hover {background-color: #d4ebff;}#sk-container-id-1 div.sk-parallel-item::after {content: \"\";width: 100%;border-bottom: 1px solid gray;flex-grow: 1;}#sk-container-id-1 div.sk-label:hover label.sk-toggleable__label {background-color: #d4ebff;}#sk-container-id-1 div.sk-serial::before {content: \"\";position: absolute;border-left: 1px solid gray;box-sizing: border-box;top: 0;bottom: 0;left: 50%;z-index: 0;}#sk-container-id-1 div.sk-serial {display: flex;flex-direction: column;align-items: center;background-color: white;padding-right: 0.2em;padding-left: 0.2em;position: relative;}#sk-container-id-1 div.sk-item {position: relative;z-index: 1;}#sk-container-id-1 div.sk-parallel {display: flex;align-items: stretch;justify-content: center;background-color: white;position: relative;}#sk-container-id-1 div.sk-item::before, #sk-container-id-1 div.sk-parallel-item::before {content: \"\";position: absolute;border-left: 1px solid gray;box-sizing: border-box;top: 0;bottom: 0;left: 50%;z-index: -1;}#sk-container-id-1 div.sk-parallel-item {display: flex;flex-direction: column;z-index: 1;position: relative;background-color: white;}#sk-container-id-1 div.sk-parallel-item:first-child::after {align-self: flex-end;width: 50%;}#sk-container-id-1 div.sk-parallel-item:last-child::after {align-self: flex-start;width: 50%;}#sk-container-id-1 div.sk-parallel-item:only-child::after {width: 0;}#sk-container-id-1 div.sk-dashed-wrapped {border: 1px dashed gray;margin: 0 0.4em 0.5em 0.4em;box-sizing: border-box;padding-bottom: 0.4em;background-color: white;}#sk-container-id-1 div.sk-label label {font-family: monospace;font-weight: bold;display: inline-block;line-height: 1.2em;}#sk-container-id-1 div.sk-label-container {text-align: center;}#sk-container-id-1 div.sk-container {/* jupyter's `normalize.less` sets `[hidden] { display: none; }` but bootstrap.min.css set `[hidden] { display: none !important; }` so we also need the `!important` here to be able to override the default hidden behavior on the sphinx rendered scikit-learn.org. See: https://github.com/scikit-learn/scikit-learn/issues/21755 */display: inline-block !important;position: relative;}#sk-container-id-1 div.sk-text-repr-fallback {display: none;}</style><div id=\"sk-container-id-1\" class=\"sk-top-container\"><div class=\"sk-text-repr-fallback\"><pre>GaussianNB()</pre><b>In a Jupyter environment, please rerun this cell to show the HTML representation or trust the notebook. <br />On GitHub, the HTML representation is unable to render, please try loading this page with nbviewer.org.</b></div><div class=\"sk-container\" hidden><div class=\"sk-item\"><div class=\"sk-estimator sk-toggleable\"><input class=\"sk-toggleable__control sk-hidden--visually\" id=\"sk-estimator-id-1\" type=\"checkbox\" checked><label for=\"sk-estimator-id-1\" class=\"sk-toggleable__label sk-toggleable__label-arrow\">GaussianNB</label><div class=\"sk-toggleable__content\"><pre>GaussianNB()</pre></div></div></div></div></div>"
            ],
            "text/plain": [
              "GaussianNB()"
            ]
          },
          "execution_count": 54,
          "metadata": {},
          "output_type": "execute_result"
        }
      ],
      "source": [
        "# train a Gaussian Naive Bayes classifier on the training set\n",
        "from sklearn.naive_bayes import GaussianNB\n",
        "\n",
        "\n",
        "# instantiate the model\n",
        "gnb = GaussianNB()\n",
        "\n",
        "\n",
        "# fit the model\n",
        "gnb.fit(X_train, y_train)"
      ]
    },
    {
      "cell_type": "code",
      "execution_count": null,
      "id": "d83916dc",
      "metadata": {
        "id": "d83916dc",
        "outputId": "a96eb8bd-c8ff-4bdf-9eab-901f5965aaa4"
      },
      "outputs": [
        {
          "data": {
            "text/plain": [
              "array(['<=50K', '>50K', '>50K', ..., '<=50K', '<=50K', '<=50K'],\n",
              "      dtype='<U5')"
            ]
          },
          "execution_count": 55,
          "metadata": {},
          "output_type": "execute_result"
        }
      ],
      "source": [
        "y_pred = gnb.predict(X_test)\n",
        "\n",
        "y_pred"
      ]
    },
    {
      "cell_type": "code",
      "execution_count": null,
      "id": "2816839e",
      "metadata": {
        "id": "2816839e",
        "outputId": "15e738ac-7d1d-4522-f9e2-599d5581faa7"
      },
      "outputs": [
        {
          "name": "stdout",
          "output_type": "stream",
          "text": [
            "Model accuracy score: 0.8057\n"
          ]
        }
      ],
      "source": [
        "from sklearn.metrics import accuracy_score\n",
        "\n",
        "print('Model accuracy score: {0:0.4f}'. format(accuracy_score(y_test, y_pred)))"
      ]
    },
    {
      "cell_type": "code",
      "execution_count": null,
      "id": "b6b18a3c",
      "metadata": {
        "id": "b6b18a3c",
        "outputId": "088baeff-0472-48e6-949b-b9e34a51cabd"
      },
      "outputs": [
        {
          "data": {
            "text/plain": [
              "array(['<=50K', '<=50K', '>50K', ..., '>50K', '<=50K', '>50K'],\n",
              "      dtype='<U5')"
            ]
          },
          "execution_count": 57,
          "metadata": {},
          "output_type": "execute_result"
        }
      ],
      "source": [
        "y_pred_train = gnb.predict(X_train)\n",
        "\n",
        "y_pred_train"
      ]
    },
    {
      "cell_type": "code",
      "execution_count": null,
      "id": "9b477eef",
      "metadata": {
        "id": "9b477eef",
        "outputId": "71efa10f-d3e1-4bd2-efa7-6f5f8195e1b7"
      },
      "outputs": [
        {
          "name": "stdout",
          "output_type": "stream",
          "text": [
            "Training-set accuracy score: 0.8072\n"
          ]
        }
      ],
      "source": [
        "print('Training-set accuracy score: {0:0.4f}'. format(accuracy_score(y_train, y_pred_train)))"
      ]
    },
    {
      "cell_type": "code",
      "execution_count": null,
      "id": "b5ecc9f8",
      "metadata": {
        "id": "b5ecc9f8",
        "outputId": "d7e47dda-25b9-4e3d-920a-2902cac116a4"
      },
      "outputs": [
        {
          "name": "stdout",
          "output_type": "stream",
          "text": [
            "Training set score: 0.8072\n",
            "Test set score: 0.8057\n"
          ]
        }
      ],
      "source": [
        "# print the scores on training and test set\n",
        "\n",
        "print('Training set score: {:.4f}'.format(gnb.score(X_train, y_train)))\n",
        "\n",
        "print('Test set score: {:.4f}'.format(gnb.score(X_test, y_test)))\n"
      ]
    },
    {
      "cell_type": "code",
      "execution_count": null,
      "id": "7d35aaf5",
      "metadata": {
        "id": "7d35aaf5",
        "outputId": "f5fa2c15-c782-489a-ad5c-3e762e4c668d"
      },
      "outputs": [
        {
          "name": "stdout",
          "output_type": "stream",
          "text": [
            "              precision    recall  f1-score   support\n",
            "\n",
            "       <=50K       0.93      0.81      0.86     11138\n",
            "        >50K       0.57      0.80      0.66      3515\n",
            "\n",
            "    accuracy                           0.81     14653\n",
            "   macro avg       0.75      0.80      0.76     14653\n",
            "weighted avg       0.84      0.81      0.82     14653\n",
            "\n"
          ]
        }
      ],
      "source": [
        "from sklearn.metrics import classification_report\n",
        "\n",
        "print(classification_report(y_test, y_pred))"
      ]
    },
    {
      "cell_type": "code",
      "execution_count": null,
      "id": "039099fa",
      "metadata": {
        "id": "039099fa"
      },
      "outputs": [],
      "source": []
    }
  ],
  "metadata": {
    "kernelspec": {
      "display_name": "Python 3 (ipykernel)",
      "language": "python",
      "name": "python3"
    },
    "language_info": {
      "codemirror_mode": {
        "name": "ipython",
        "version": 3
      },
      "file_extension": ".py",
      "mimetype": "text/x-python",
      "name": "python",
      "nbconvert_exporter": "python",
      "pygments_lexer": "ipython3",
      "version": "3.8.5"
    },
    "colab": {
      "provenance": []
    }
  },
  "nbformat": 4,
  "nbformat_minor": 5
}