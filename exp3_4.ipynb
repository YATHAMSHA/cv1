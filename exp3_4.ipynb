{
  "nbformat": 4,
  "nbformat_minor": 0,
  "metadata": {
    "colab": {
      "provenance": []
    },
    "kernelspec": {
      "name": "python3",
      "display_name": "Python 3"
    },
    "language_info": {
      "name": "python"
    }
  },
  "cells": [
    {
      "cell_type": "code",
      "execution_count": 1,
      "metadata": {
        "id": "4OZyNORgqNIJ"
      },
      "outputs": [],
      "source": [
        "from sklearn.datasets import load_breast_cancer\n",
        "from sklearn.model_selection import train_test_split\n",
        "from sklearn.tree import DecisionTreeClassifier\n",
        "from sklearn.ensemble import RandomForestClassifier"
      ]
    },
    {
      "cell_type": "code",
      "source": [
        "data = load_breast_cancer()\n",
        "X= data.data\n",
        "Y= data.target"
      ],
      "metadata": {
        "id": "CwcF1cAoqjDN"
      },
      "execution_count": 2,
      "outputs": []
    },
    {
      "cell_type": "code",
      "source": [
        "x_train, x_test, y_train, y_test = train_test_split(X, Y, test_size= 0.3)"
      ],
      "metadata": {
        "id": "-iQlRDxzqkm7"
      },
      "execution_count": 3,
      "outputs": []
    },
    {
      "cell_type": "code",
      "source": [
        "x_train"
      ],
      "metadata": {
        "colab": {
          "base_uri": "https://localhost:8080/"
        },
        "id": "BSH_rsaEqqAk",
        "outputId": "bcc46910-1b2a-4ef0-ae2d-34cb8a16e9a2"
      },
      "execution_count": 4,
      "outputs": [
        {
          "output_type": "execute_result",
          "data": {
            "text/plain": [
              "array([[1.280e+01, 1.746e+01, 8.305e+01, ..., 8.296e-02, 1.988e-01,\n",
              "        7.053e-02],\n",
              "       [1.017e+01, 1.488e+01, 6.455e+01, ..., 2.579e-02, 3.557e-01,\n",
              "        8.020e-02],\n",
              "       [1.496e+01, 1.910e+01, 9.703e+01, ..., 1.489e-01, 2.962e-01,\n",
              "        8.472e-02],\n",
              "       ...,\n",
              "       [9.333e+00, 2.194e+01, 5.901e+01, ..., 2.564e-02, 2.435e-01,\n",
              "        7.393e-02],\n",
              "       [1.116e+01, 2.141e+01, 7.095e+01, ..., 4.306e-02, 2.976e-01,\n",
              "        7.123e-02],\n",
              "       [1.189e+01, 1.835e+01, 7.732e+01, ..., 1.138e-01, 3.397e-01,\n",
              "        8.365e-02]])"
            ]
          },
          "metadata": {},
          "execution_count": 4
        }
      ]
    },
    {
      "cell_type": "code",
      "source": [
        "clf = DecisionTreeClassifier()\n",
        "clf.fit(x_train, y_train)"
      ],
      "metadata": {
        "colab": {
          "base_uri": "https://localhost:8080/"
        },
        "id": "Na1Gls2Kq6aY",
        "outputId": "0feb5393-80c2-4703-8f3f-25b84c2944ef"
      },
      "execution_count": 5,
      "outputs": [
        {
          "output_type": "execute_result",
          "data": {
            "text/plain": [
              "DecisionTreeClassifier()"
            ]
          },
          "metadata": {},
          "execution_count": 5
        }
      ]
    },
    {
      "cell_type": "code",
      "source": [
        "clf2 = RandomForestClassifier()\n",
        "clf2.fit(x_train, y_train)"
      ],
      "metadata": {
        "colab": {
          "base_uri": "https://localhost:8080/"
        },
        "id": "FfqxhoZerBdg",
        "outputId": "10b884df-c5bd-4736-ceff-15c4c1e8cf7f"
      },
      "execution_count": 6,
      "outputs": [
        {
          "output_type": "execute_result",
          "data": {
            "text/plain": [
              "RandomForestClassifier()"
            ]
          },
          "metadata": {},
          "execution_count": 6
        }
      ]
    },
    {
      "cell_type": "code",
      "source": [
        "print(f'Decision Tree: {clf.score(x_test,y_test)}')\n",
        "print(f'Randon Forest: {clf2.score(x_test,y_test)}')"
      ],
      "metadata": {
        "colab": {
          "base_uri": "https://localhost:8080/"
        },
        "id": "sdgihDjZrFJv",
        "outputId": "5143e848-bac7-4be9-d2b1-0b1be754c0fb"
      },
      "execution_count": 7,
      "outputs": [
        {
          "output_type": "stream",
          "name": "stdout",
          "text": [
            "Decision Tree: 0.9649122807017544\n",
            "Randon Forest: 0.9707602339181286\n"
          ]
        }
      ]
    },
    {
      "cell_type": "code",
      "source": [
        "from sklearn import tree\n",
        "tree.plot_tree(clf.fit(x_train,y_train))"
      ],
      "metadata": {
        "colab": {
          "base_uri": "https://localhost:8080/",
          "height": 855
        },
        "id": "XiHHH8MZrJEt",
        "outputId": "6b705008-7294-40bc-c603-8c0679055ddf"
      },
      "execution_count": 8,
      "outputs": [
        {
          "output_type": "execute_result",
          "data": {
            "text/plain": [
              "[Text(0.5760869565217391, 0.9375, 'X[20] <= 16.795\\ngini = 0.462\\nsamples = 398\\nvalue = [144, 254]'),\n",
              " Text(0.3695652173913043, 0.8125, 'X[27] <= 0.156\\ngini = 0.156\\nsamples = 269\\nvalue = [23, 246]'),\n",
              " Text(0.21739130434782608, 0.6875, 'X[27] <= 0.135\\ngini = 0.069\\nsamples = 253\\nvalue = [9, 244]'),\n",
              " Text(0.13043478260869565, 0.5625, 'X[13] <= 91.555\\ngini = 0.025\\nsamples = 237\\nvalue = [3, 234]'),\n",
              " Text(0.08695652173913043, 0.4375, 'X[23] <= 785.75\\ngini = 0.017\\nsamples = 236\\nvalue = [2, 234]'),\n",
              " Text(0.043478260869565216, 0.3125, 'gini = 0.0\\nsamples = 218\\nvalue = [0, 218]'),\n",
              " Text(0.13043478260869565, 0.3125, 'X[11] <= 2.065\\ngini = 0.198\\nsamples = 18\\nvalue = [2, 16]'),\n",
              " Text(0.08695652173913043, 0.1875, 'X[22] <= 102.7\\ngini = 0.111\\nsamples = 17\\nvalue = [1, 16]'),\n",
              " Text(0.043478260869565216, 0.0625, 'gini = 0.0\\nsamples = 1\\nvalue = [1, 0]'),\n",
              " Text(0.13043478260869565, 0.0625, 'gini = 0.0\\nsamples = 16\\nvalue = [0, 16]'),\n",
              " Text(0.17391304347826086, 0.1875, 'gini = 0.0\\nsamples = 1\\nvalue = [1, 0]'),\n",
              " Text(0.17391304347826086, 0.4375, 'gini = 0.0\\nsamples = 1\\nvalue = [1, 0]'),\n",
              " Text(0.30434782608695654, 0.5625, 'X[1] <= 20.24\\ngini = 0.469\\nsamples = 16\\nvalue = [6, 10]'),\n",
              " Text(0.2608695652173913, 0.4375, 'X[23] <= 811.1\\ngini = 0.278\\nsamples = 12\\nvalue = [2, 10]'),\n",
              " Text(0.21739130434782608, 0.3125, 'gini = 0.0\\nsamples = 9\\nvalue = [0, 9]'),\n",
              " Text(0.30434782608695654, 0.3125, 'X[3] <= 621.8\\ngini = 0.444\\nsamples = 3\\nvalue = [2, 1]'),\n",
              " Text(0.2608695652173913, 0.1875, 'gini = 0.0\\nsamples = 2\\nvalue = [2, 0]'),\n",
              " Text(0.34782608695652173, 0.1875, 'gini = 0.0\\nsamples = 1\\nvalue = [0, 1]'),\n",
              " Text(0.34782608695652173, 0.4375, 'gini = 0.0\\nsamples = 4\\nvalue = [4, 0]'),\n",
              " Text(0.5217391304347826, 0.6875, 'X[21] <= 23.47\\ngini = 0.219\\nsamples = 16\\nvalue = [14, 2]'),\n",
              " Text(0.4782608695652174, 0.5625, 'X[13] <= 26.165\\ngini = 0.444\\nsamples = 3\\nvalue = [1, 2]'),\n",
              " Text(0.43478260869565216, 0.4375, 'gini = 0.0\\nsamples = 2\\nvalue = [0, 2]'),\n",
              " Text(0.5217391304347826, 0.4375, 'gini = 0.0\\nsamples = 1\\nvalue = [1, 0]'),\n",
              " Text(0.5652173913043478, 0.5625, 'gini = 0.0\\nsamples = 13\\nvalue = [13, 0]'),\n",
              " Text(0.782608695652174, 0.8125, 'X[1] <= 15.185\\ngini = 0.116\\nsamples = 129\\nvalue = [121, 8]'),\n",
              " Text(0.6956521739130435, 0.6875, 'X[15] <= 0.021\\ngini = 0.48\\nsamples = 10\\nvalue = [4, 6]'),\n",
              " Text(0.6521739130434783, 0.5625, 'gini = 0.0\\nsamples = 6\\nvalue = [0, 6]'),\n",
              " Text(0.7391304347826086, 0.5625, 'gini = 0.0\\nsamples = 4\\nvalue = [4, 0]'),\n",
              " Text(0.8695652173913043, 0.6875, 'X[24] <= 0.088\\ngini = 0.033\\nsamples = 119\\nvalue = [117, 2]'),\n",
              " Text(0.8260869565217391, 0.5625, 'gini = 0.0\\nsamples = 1\\nvalue = [0, 1]'),\n",
              " Text(0.9130434782608695, 0.5625, 'X[27] <= 0.092\\ngini = 0.017\\nsamples = 118\\nvalue = [117, 1]'),\n",
              " Text(0.8695652173913043, 0.4375, 'X[4] <= 0.092\\ngini = 0.375\\nsamples = 4\\nvalue = [3, 1]'),\n",
              " Text(0.8260869565217391, 0.3125, 'gini = 0.0\\nsamples = 3\\nvalue = [3, 0]'),\n",
              " Text(0.9130434782608695, 0.3125, 'gini = 0.0\\nsamples = 1\\nvalue = [0, 1]'),\n",
              " Text(0.9565217391304348, 0.4375, 'gini = 0.0\\nsamples = 114\\nvalue = [114, 0]')]"
            ]
          },
          "metadata": {},
          "execution_count": 8
        },
        {
          "output_type": "display_data",
          "data": {
            "text/plain": [
              "<Figure size 432x288 with 1 Axes>"
            ],
            "image/png": "[encoded data removed]"
          },
          "metadata": {
            "needs_background": "light"
          }
        }
      ]
    }
  ]
}